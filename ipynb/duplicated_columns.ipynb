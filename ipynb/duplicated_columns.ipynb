{
 "cells": [
  {
   "cell_type": "code",
   "execution_count": null,
   "metadata": {},
   "outputs": [],
   "source": [
    "import os\n",
    "import gc\n",
    "import sys\n",
    "import numpy as np\n",
    "import pandas as pd\n",
    "import seaborn as sns\n",
    "import matplotlib.pyplot as plt\n",
    "\n",
    "from glob import glob\n",
    "from tqdm import tqdm\n",
    "from datetime import datetime, date\n",
    "from collections import defaultdict, Counter\n",
    "from multiprocessing import cpu_count, Pool\n",
    "\n",
    "from sklearn.preprocessing import LabelEncoder\n",
    "from sklearn.model_selection import StratifiedKFold, KFold\n",
    "from sklearn.metrics import mean_squared_error\n",
    "\n",
    "import lightgbm as lgb\n",
    "\n",
    "import warnings\n",
    "warnings.simplefilter('ignore')"
   ]
  },
  {
   "cell_type": "code",
   "execution_count": null,
   "metadata": {},
   "outputs": [],
   "source": [
    "PATH = os.path.join('..', 'data')\n",
    "\n",
    "KEY = 'card_id'\n",
    "\n",
    "SEED = 18\n",
    "# SEED = np.random.randint(9999)\n",
    "\n",
    "NTHREAD = cpu_count()\n",
    "\n",
    "NFOLD = 4"
   ]
  },
  {
   "cell_type": "code",
   "execution_count": null,
   "metadata": {},
   "outputs": [],
   "source": [
    "features = os.listdir('../feature')"
   ]
  },
  {
   "cell_type": "code",
   "execution_count": null,
   "metadata": {},
   "outputs": [],
   "source": [
    "train = pd.read_csv(os.path.join(PATH, 'train.csv'))\n",
    "\n",
    "for f in features:\n",
    "    print(f'Merge: {f}', end=' ')\n",
    "    t = pd.read_pickle(os.path.join('..', 'feature', f))\n",
    "    train = pd.merge(train, t, on=KEY, how='left')\n",
    "    print('Done!!')\n",
    "\n",
    "for f in [\n",
    "    'hist_purchase_date_max', 'hist_purchase_date_min', \n",
    "    'N_hist_auth_purchase_date_max', 'N_hist_auth_purchase_date_min', \n",
    "    'Y_hist_auth_purchase_date_max', 'Y_hist_auth_purchase_date_min', \n",
    "#     'new_purchase_date_max', 'new_purchase_date_min', \n",
    "    'N_new_auth_purchase_date_max', 'N_new_auth_purchase_date_min',\n",
    "    'Y_new_auth_purchase_date_max', 'Y_new_auth_purchase_date_min', \n",
    "#     'union_purchase_date_max', 'union_purchase_date_min', \n",
    "    'N_union_auth_purchase_date_max', 'N_union_auth_purchase_date_min',\n",
    "    'Y_union_auth_purchase_date_max', 'Y_union_auth_purchase_date_min']:\n",
    "    train[f] = train[f].astype(np.int64) * 1e-9"
   ]
  },
  {
   "cell_type": "code",
   "execution_count": null,
   "metadata": {},
   "outputs": [],
   "source": [
    "train.columns"
   ]
  },
  {
   "cell_type": "code",
   "execution_count": null,
   "metadata": {},
   "outputs": [],
   "source": [
    "train.columns.unique()"
   ]
  },
  {
   "cell_type": "code",
   "execution_count": null,
   "metadata": {},
   "outputs": [],
   "source": [
    "cnt = Counter(train.columns)"
   ]
  },
  {
   "cell_type": "code",
   "execution_count": null,
   "metadata": {},
   "outputs": [],
   "source": [
    "for t in cnt.most_common(14):\n",
    "    print(f\"'{t[0]}',\")"
   ]
  },
  {
   "cell_type": "code",
   "execution_count": null,
   "metadata": {},
   "outputs": [],
   "source": [
    "drop_cols = [\n",
    "   'N_authorized_flag_x',\n",
    "    'Y_authorized_flag_x',\n",
    "    'N_authorized_flag_y',\n",
    "    'Y_authorized_flag_y',\n",
    "    'union_transactions_count_x',\n",
    "    'union_transactions_count_y',\n",
    "    'hist_month_lag_mean_x',\n",
    "    'hist_month_lag_std_x',\n",
    "    'hist_month_diff_mean_x',\n",
    "    'hist_month_diff_std_x',\n",
    "    'hist_month_lag_mean_y',\n",
    "    'hist_month_lag_std_y',\n",
    "    'hist_month_diff_mean_y',\n",
    "    'hist_month_diff_std_y', \n",
    "]"
   ]
  },
  {
   "cell_type": "code",
   "execution_count": null,
   "metadata": {},
   "outputs": [],
   "source": [
    "train.drop(drop_cols, axis=1, inplace=True)"
   ]
  },
  {
   "cell_type": "code",
   "execution_count": null,
   "metadata": {},
   "outputs": [],
   "source": [
    "train.columns.unique()"
   ]
  },
  {
   "cell_type": "code",
   "execution_count": null,
   "metadata": {},
   "outputs": [],
   "source": [
    "train = train.loc[:, ~(train.dtypes == object)]"
   ]
  },
  {
   "cell_type": "code",
   "execution_count": null,
   "metadata": {},
   "outputs": [],
   "source": [
    "train.head()"
   ]
  },
  {
   "cell_type": "code",
   "execution_count": null,
   "metadata": {},
   "outputs": [],
   "source": [
    "del train['target']"
   ]
  },
  {
   "cell_type": "code",
   "execution_count": null,
   "metadata": {},
   "outputs": [],
   "source": [
    "gc.collect()"
   ]
  },
  {
   "cell_type": "code",
   "execution_count": null,
   "metadata": {},
   "outputs": [],
   "source": [
    "train = train.fillna(0)"
   ]
  },
  {
   "cell_type": "code",
   "execution_count": null,
   "metadata": {
    "scrolled": true
   },
   "outputs": [],
   "source": [
    "def drop_duplicated_columns(train):\n",
    "    drop_cols = set()\n",
    "    for ei,ci in enumerate(tqdm(train.columns)):\n",
    "        ti = train[ci].values\n",
    "        for cj in train.columns[ei+1:]:\n",
    "            tj = train[cj].values\n",
    "            if (np.max(ti) != np.min(tj)) or (np.min(ti) != np.min(tj)):\n",
    "                continue\n",
    "            if sum(ti != tj) == 0:\n",
    "                print(ci, cj)\n",
    "                drop_cols.add(cj)\n",
    "                \n",
    "    return drop_cols"
   ]
  },
  {
   "cell_type": "code",
   "execution_count": null,
   "metadata": {
    "scrolled": true
   },
   "outputs": [],
   "source": [
    "train.dtypes.unique()"
   ]
  },
  {
   "cell_type": "code",
   "execution_count": null,
   "metadata": {},
   "outputs": [],
   "source": [
    "train_int64 = train.loc[:, (train.dtypes == 'int64')]\n",
    "int64 = drop_duplicated_columns(train_int64)\n",
    "del train_int64"
   ]
  },
  {
   "cell_type": "code",
   "execution_count": null,
   "metadata": {},
   "outputs": [],
   "source": [
    "train_float64 = train.loc[:, (train.dtypes == 'float64')]\n",
    "float64 = drop_duplicated_columns(train_float64)\n",
    "del train_float64"
   ]
  },
  {
   "cell_type": "code",
   "execution_count": null,
   "metadata": {},
   "outputs": [],
   "source": [
    "train_float16 = train.loc[:, (train.dtypes == 'float16')]\n",
    "float16 = drop_duplicated_columns(train_float16)\n",
    "del train_float16"
   ]
  },
  {
   "cell_type": "code",
   "execution_count": null,
   "metadata": {},
   "outputs": [],
   "source": [
    "train_float32 = train.loc[:, (train.dtypes == 'float32')]\n",
    "float32 = drop_duplicated_columns(train_float32)\n",
    "del train_float32"
   ]
  },
  {
   "cell_type": "code",
   "execution_count": null,
   "metadata": {},
   "outputs": [],
   "source": [
    "train_int8 = train.loc[:, (train.dtypes == 'int8')]\n",
    "int8 = drop_duplicated_columns(train_int8)\n",
    "del train_int8"
   ]
  },
  {
   "cell_type": "code",
   "execution_count": null,
   "metadata": {},
   "outputs": [],
   "source": [
    "train_int16 = train.loc[:, (train.dtypes == 'int16')]\n",
    "int16 = drop_duplicated_columns(train_int16)\n",
    "del train_int16"
   ]
  },
  {
   "cell_type": "code",
   "execution_count": null,
   "metadata": {},
   "outputs": [],
   "source": [
    "train_uint8 = train.loc[:, (train.dtypes == 'uint8')]\n",
    "uint8 = drop_duplicated_columns(train_uint8)\n",
    "del train_uint8"
   ]
  },
  {
   "cell_type": "code",
   "execution_count": null,
   "metadata": {},
   "outputs": [],
   "source": [
    "set(float64)"
   ]
  },
  {
   "cell_type": "code",
   "execution_count": null,
   "metadata": {},
   "outputs": [],
   "source": [
    "set(float16)"
   ]
  },
  {
   "cell_type": "code",
   "execution_count": null,
   "metadata": {
    "scrolled": true
   },
   "outputs": [],
   "source": [
    "set(float32)"
   ]
  },
  {
   "cell_type": "code",
   "execution_count": null,
   "metadata": {},
   "outputs": [],
   "source": [
    "pd.DataFrame(list(set(float64)), columns={'duplicated_columns'}).head()"
   ]
  },
  {
   "cell_type": "code",
   "execution_count": null,
   "metadata": {},
   "outputs": [],
   "source": [
    "int64"
   ]
  },
  {
   "cell_type": "code",
   "execution_count": null,
   "metadata": {},
   "outputs": [],
   "source": [
    "float16"
   ]
  },
  {
   "cell_type": "code",
   "execution_count": null,
   "metadata": {},
   "outputs": [],
   "source": [
    "float32"
   ]
  },
  {
   "cell_type": "code",
   "execution_count": null,
   "metadata": {},
   "outputs": [],
   "source": [
    "float64"
   ]
  },
  {
   "cell_type": "code",
   "execution_count": null,
   "metadata": {},
   "outputs": [],
   "source": [
    "duplicated_columns = set()"
   ]
  },
  {
   "cell_type": "code",
   "execution_count": null,
   "metadata": {},
   "outputs": [],
   "source": [
    "duplicated_columns = duplicated_columns.union(float16)"
   ]
  },
  {
   "cell_type": "code",
   "execution_count": null,
   "metadata": {},
   "outputs": [],
   "source": [
    "duplicated_columns = duplicated_columns.union(float32)"
   ]
  },
  {
   "cell_type": "code",
   "execution_count": null,
   "metadata": {},
   "outputs": [],
   "source": [
    "duplicated_columns = duplicated_columns.union(float64)"
   ]
  },
  {
   "cell_type": "code",
   "execution_count": null,
   "metadata": {},
   "outputs": [],
   "source": [
    "duplicated_columns = duplicated_columns.union(int8)"
   ]
  },
  {
   "cell_type": "code",
   "execution_count": null,
   "metadata": {},
   "outputs": [],
   "source": [
    "duplicated_columns = duplicated_columns.union(int16)"
   ]
  },
  {
   "cell_type": "code",
   "execution_count": null,
   "metadata": {},
   "outputs": [],
   "source": [
    "duplicated_columns = duplicated_columns.union(int64)"
   ]
  },
  {
   "cell_type": "code",
   "execution_count": null,
   "metadata": {},
   "outputs": [],
   "source": [
    "duplicated_columns = duplicated_columns.union(uint8)"
   ]
  },
  {
   "cell_type": "code",
   "execution_count": null,
   "metadata": {},
   "outputs": [],
   "source": [
    "duplicated_columns = duplicated_columns.union(set(\n",
    "    ['N_authorized_flag_x',\n",
    "    'Y_authorized_flag_x',\n",
    "    'N_authorized_flag_y',\n",
    "    'Y_authorized_flag_y',\n",
    "    'union_transactions_count_x',\n",
    "    'union_transactions_count_y',\n",
    "    'hist_month_lag_mean_x',\n",
    "    'hist_month_lag_std_x',\n",
    "    'hist_month_diff_mean_x',\n",
    "    'hist_month_diff_std_x',\n",
    "    'hist_month_lag_mean_y',\n",
    "    'hist_month_lag_std_y',\n",
    "    'hist_month_diff_mean_y',\n",
    "    'hist_month_diff_std_y']))"
   ]
  },
  {
   "cell_type": "code",
   "execution_count": null,
   "metadata": {},
   "outputs": [],
   "source": [
    "len(duplicated_columns)"
   ]
  },
  {
   "cell_type": "code",
   "execution_count": null,
   "metadata": {},
   "outputs": [],
   "source": [
    "duplicated = pd.DataFrame(list(duplicated_columns), columns={'duplicated_columns'})"
   ]
  },
  {
   "cell_type": "code",
   "execution_count": null,
   "metadata": {},
   "outputs": [],
   "source": [
    "duplicated.head()"
   ]
  },
  {
   "cell_type": "code",
   "execution_count": null,
   "metadata": {},
   "outputs": [],
   "source": [
    "duplicated.to_csv('../py/duplicated_columns.py')"
   ]
  },
  {
   "cell_type": "code",
   "execution_count": null,
   "metadata": {
    "scrolled": true
   },
   "outputs": [],
   "source": [
    "len(train.columns)"
   ]
  },
  {
   "cell_type": "code",
   "execution_count": null,
   "metadata": {},
   "outputs": [],
   "source": [
    "train_M = train.loc[:, (train.dtypes == '<M8[ns]')]"
   ]
  },
  {
   "cell_type": "code",
   "execution_count": null,
   "metadata": {},
   "outputs": [],
   "source": [
    "train_M"
   ]
  },
  {
   "cell_type": "code",
   "execution_count": null,
   "metadata": {},
   "outputs": [],
   "source": [
    "duplicated.duplicated_columns.values"
   ]
  },
  {
   "cell_type": "code",
   "execution_count": null,
   "metadata": {},
   "outputs": [],
   "source": []
  }
 ],
 "metadata": {
  "kernelspec": {
   "display_name": "Python 3",
   "language": "python",
   "name": "python3"
  },
  "language_info": {
   "codemirror_mode": {
    "name": "ipython",
    "version": 3
   },
   "file_extension": ".py",
   "mimetype": "text/x-python",
   "name": "python",
   "nbconvert_exporter": "python",
   "pygments_lexer": "ipython3",
   "version": "3.6.1"
  },
  "toc": {
   "base_numbering": 1,
   "nav_menu": {},
   "number_sections": true,
   "sideBar": true,
   "skip_h1_title": false,
   "title_cell": "Table of Contents",
   "title_sidebar": "Contents",
   "toc_cell": false,
   "toc_position": {},
   "toc_section_display": true,
   "toc_window_display": false
  }
 },
 "nbformat": 4,
 "nbformat_minor": 2
}
