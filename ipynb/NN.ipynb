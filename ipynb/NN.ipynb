{
 "cells": [
  {
   "cell_type": "code",
   "execution_count": 103,
   "metadata": {},
   "outputs": [],
   "source": [
    "import os\n",
    "import gc\n",
    "import sys\n",
    "import random\n",
    "import numpy as np\n",
    "import pandas as pd\n",
    "import seaborn as sns\n",
    "import matplotlib.pyplot as plt\n",
    "\n",
    "from glob import glob\n",
    "from tqdm import tqdm\n",
    "from datetime import datetime, date\n",
    "from collections import defaultdict, Counter\n",
    "from multiprocessing import cpu_count, Pool\n",
    "\n",
    "import tensorflow as tf\n",
    "from tensorflow import keras\n",
    "from sklearn.preprocessing import LabelEncoder\n",
    "from sklearn.model_selection import StratifiedKFold, KFold\n",
    "from sklearn.metrics import mean_squared_error\n",
    "from sklearn.preprocessing import StandardScaler, MinMaxScaler, minmax_scale\n",
    "from sklearn.model_selection import train_test_split\n",
    "from sklearn.metrics import mean_absolute_error, mean_squared_error\n",
    "\n",
    "import lightgbm as lgb\n",
    "\n",
    "import warning\n",
    "warnings.simplefilter('ignore')"
   ]
  },
  {
   "cell_type": "code",
   "execution_count": 26,
   "metadata": {},
   "outputs": [],
   "source": [
    "PATH = os.path.join('..', 'data')\n",
    "\n",
    "KEY = 'card_id'\n",
    "\n",
    "SEED = 18\n",
    "# SEED = np.random.randint(9999)\n",
    "\n",
    "NTHREAD = cpu_count()\n",
    "\n",
    "NFOLD = 4"
   ]
  },
  {
   "cell_type": "code",
   "execution_count": 40,
   "metadata": {},
   "outputs": [],
   "source": [
    "tf.set_random_seed(1)\n",
    "np.random.seed(1)\n",
    "random.seed(1) "
   ]
  },
  {
   "cell_type": "code",
   "execution_count": 123,
   "metadata": {},
   "outputs": [],
   "source": [
    "df = pd.read_csv(os.path.join(PATH, 'train.csv'))\n",
    "# train = pd.read_csv(os.path.join(PATH, 'train.csv'))\n",
    "test = pd.read_csv(os.path.join(PATH, 'test.csv'))\n",
    "# df = pd.concat([train, test], axis=0)\n",
    "# del train, test\n",
    "# gc.collect()"
   ]
  },
  {
   "cell_type": "code",
   "execution_count": 96,
   "metadata": {},
   "outputs": [
    {
     "data": {
      "text/html": [
       "<div>\n",
       "<style scoped>\n",
       "    .dataframe tbody tr th:only-of-type {\n",
       "        vertical-align: middle;\n",
       "    }\n",
       "\n",
       "    .dataframe tbody tr th {\n",
       "        vertical-align: top;\n",
       "    }\n",
       "\n",
       "    .dataframe thead th {\n",
       "        text-align: right;\n",
       "    }\n",
       "</style>\n",
       "<table border=\"1\" class=\"dataframe\">\n",
       "  <thead>\n",
       "    <tr style=\"text-align: right;\">\n",
       "      <th></th>\n",
       "      <th>first_active_month</th>\n",
       "      <th>card_id</th>\n",
       "      <th>feature_1</th>\n",
       "      <th>feature_2</th>\n",
       "      <th>feature_3</th>\n",
       "      <th>target</th>\n",
       "      <th>mean_feature_1</th>\n",
       "      <th>mean_feature_2</th>\n",
       "      <th>mean_feature_3</th>\n",
       "      <th>first_active_month_year</th>\n",
       "      <th>first_active_month_weekday</th>\n",
       "      <th>first_active_month_month</th>\n",
       "      <th>first_active_month_weekofyear</th>\n",
       "      <th>first_active_month_quarter</th>\n",
       "      <th>first_active_month_is_month_start</th>\n",
       "      <th>elapsed_time</th>\n",
       "      <th>elapsed_time_feature_1</th>\n",
       "      <th>elapsed_time_feature_2</th>\n",
       "      <th>elapsed_time_feature_3</th>\n",
       "    </tr>\n",
       "  </thead>\n",
       "  <tbody>\n",
       "    <tr>\n",
       "      <th>0</th>\n",
       "      <td>2017-06-01</td>\n",
       "      <td>C_ID_92a2005557</td>\n",
       "      <td>5</td>\n",
       "      <td>2</td>\n",
       "      <td>1</td>\n",
       "      <td>-0.820283</td>\n",
       "      <td>0.013145</td>\n",
       "      <td>0.008752</td>\n",
       "      <td>0.011428</td>\n",
       "      <td>2017</td>\n",
       "      <td>3</td>\n",
       "      <td>6</td>\n",
       "      <td>22</td>\n",
       "      <td>2</td>\n",
       "      <td>1</td>\n",
       "      <td>245</td>\n",
       "      <td>1225</td>\n",
       "      <td>490</td>\n",
       "      <td>245</td>\n",
       "    </tr>\n",
       "    <tr>\n",
       "      <th>1</th>\n",
       "      <td>2017-01-01</td>\n",
       "      <td>C_ID_3d0044924f</td>\n",
       "      <td>4</td>\n",
       "      <td>1</td>\n",
       "      <td>0</td>\n",
       "      <td>0.392913</td>\n",
       "      <td>0.010712</td>\n",
       "      <td>0.011385</td>\n",
       "      <td>0.010283</td>\n",
       "      <td>2017</td>\n",
       "      <td>6</td>\n",
       "      <td>1</td>\n",
       "      <td>52</td>\n",
       "      <td>1</td>\n",
       "      <td>1</td>\n",
       "      <td>396</td>\n",
       "      <td>1584</td>\n",
       "      <td>396</td>\n",
       "      <td>0</td>\n",
       "    </tr>\n",
       "    <tr>\n",
       "      <th>2</th>\n",
       "      <td>2016-08-01</td>\n",
       "      <td>C_ID_d639edf6cd</td>\n",
       "      <td>2</td>\n",
       "      <td>2</td>\n",
       "      <td>0</td>\n",
       "      <td>0.688056</td>\n",
       "      <td>0.010610</td>\n",
       "      <td>0.008752</td>\n",
       "      <td>0.010283</td>\n",
       "      <td>2016</td>\n",
       "      <td>0</td>\n",
       "      <td>8</td>\n",
       "      <td>31</td>\n",
       "      <td>3</td>\n",
       "      <td>1</td>\n",
       "      <td>549</td>\n",
       "      <td>1098</td>\n",
       "      <td>1098</td>\n",
       "      <td>0</td>\n",
       "    </tr>\n",
       "    <tr>\n",
       "      <th>3</th>\n",
       "      <td>2017-09-01</td>\n",
       "      <td>C_ID_186d6a6901</td>\n",
       "      <td>4</td>\n",
       "      <td>3</td>\n",
       "      <td>0</td>\n",
       "      <td>0.142495</td>\n",
       "      <td>0.010712</td>\n",
       "      <td>0.014166</td>\n",
       "      <td>0.010283</td>\n",
       "      <td>2017</td>\n",
       "      <td>4</td>\n",
       "      <td>9</td>\n",
       "      <td>35</td>\n",
       "      <td>3</td>\n",
       "      <td>1</td>\n",
       "      <td>153</td>\n",
       "      <td>612</td>\n",
       "      <td>459</td>\n",
       "      <td>0</td>\n",
       "    </tr>\n",
       "    <tr>\n",
       "      <th>4</th>\n",
       "      <td>2017-11-01</td>\n",
       "      <td>C_ID_cdbd2c0db2</td>\n",
       "      <td>1</td>\n",
       "      <td>3</td>\n",
       "      <td>0</td>\n",
       "      <td>-0.159749</td>\n",
       "      <td>0.008058</td>\n",
       "      <td>0.014166</td>\n",
       "      <td>0.010283</td>\n",
       "      <td>2017</td>\n",
       "      <td>2</td>\n",
       "      <td>11</td>\n",
       "      <td>44</td>\n",
       "      <td>4</td>\n",
       "      <td>1</td>\n",
       "      <td>92</td>\n",
       "      <td>92</td>\n",
       "      <td>276</td>\n",
       "      <td>0</td>\n",
       "    </tr>\n",
       "  </tbody>\n",
       "</table>\n",
       "</div>"
      ],
      "text/plain": [
       "  first_active_month          card_id  feature_1  feature_2  feature_3  \\\n",
       "0         2017-06-01  C_ID_92a2005557          5          2          1   \n",
       "1         2017-01-01  C_ID_3d0044924f          4          1          0   \n",
       "2         2016-08-01  C_ID_d639edf6cd          2          2          0   \n",
       "3         2017-09-01  C_ID_186d6a6901          4          3          0   \n",
       "4         2017-11-01  C_ID_cdbd2c0db2          1          3          0   \n",
       "\n",
       "     target  mean_feature_1  mean_feature_2  mean_feature_3  \\\n",
       "0 -0.820283        0.013145        0.008752        0.011428   \n",
       "1  0.392913        0.010712        0.011385        0.010283   \n",
       "2  0.688056        0.010610        0.008752        0.010283   \n",
       "3  0.142495        0.010712        0.014166        0.010283   \n",
       "4 -0.159749        0.008058        0.014166        0.010283   \n",
       "\n",
       "   first_active_month_year  first_active_month_weekday  \\\n",
       "0                     2017                           3   \n",
       "1                     2017                           6   \n",
       "2                     2016                           0   \n",
       "3                     2017                           4   \n",
       "4                     2017                           2   \n",
       "\n",
       "   first_active_month_month  first_active_month_weekofyear  \\\n",
       "0                         6                             22   \n",
       "1                         1                             52   \n",
       "2                         8                             31   \n",
       "3                         9                             35   \n",
       "4                        11                             44   \n",
       "\n",
       "   first_active_month_quarter  first_active_month_is_month_start  \\\n",
       "0                           2                                  1   \n",
       "1                           1                                  1   \n",
       "2                           3                                  1   \n",
       "3                           3                                  1   \n",
       "4                           4                                  1   \n",
       "\n",
       "   elapsed_time  elapsed_time_feature_1  elapsed_time_feature_2  \\\n",
       "0           245                    1225                     490   \n",
       "1           396                    1584                     396   \n",
       "2           549                    1098                    1098   \n",
       "3           153                     612                     459   \n",
       "4            92                      92                     276   \n",
       "\n",
       "   elapsed_time_feature_3  \n",
       "0                     245  \n",
       "1                       0  \n",
       "2                       0  \n",
       "3                       0  \n",
       "4                       0  "
      ]
     },
     "execution_count": 96,
     "metadata": {},
     "output_type": "execute_result"
    }
   ],
   "source": [
    "df.head()"
   ]
  },
  {
   "cell_type": "code",
   "execution_count": 97,
   "metadata": {},
   "outputs": [],
   "source": [
    "df = df[df.target > -30]"
   ]
  },
  {
   "cell_type": "code",
   "execution_count": 98,
   "metadata": {},
   "outputs": [
    {
     "data": {
      "text/plain": [
       "elapsed_time_feature_1    224\n",
       "elapsed_time_feature_2    177\n",
       "elapsed_time_feature_3     75\n",
       "dtype: int64"
      ]
     },
     "execution_count": 98,
     "metadata": {},
     "output_type": "execute_result"
    }
   ],
   "source": [
    "df[['elapsed_time_feature_1', 'elapsed_time_feature_2', 'elapsed_time_feature_3']].nunique()"
   ]
  },
  {
   "cell_type": "code",
   "execution_count": 99,
   "metadata": {},
   "outputs": [
    {
     "name": "stdout",
     "output_type": "stream",
     "text": [
      "first_active_month 2018-02-01 2011-11-01\n",
      "card_id C_ID_fffffd5772 C_ID_00007093c1\n",
      "feature_1 5 1\n",
      "feature_2 3 1\n",
      "feature_3 1 0\n",
      "target 17.965068399999996 -17.60814651\n",
      "mean_feature_1 0.013144615384615385 0.008058486333804104\n",
      "mean_feature_2 0.014166402368115024 0.008752121220219405\n",
      "mean_feature_3 0.011427520622077443 0.01028283496163887\n",
      "first_active_month_year 2018 2011\n",
      "first_active_month_weekday 6 0\n",
      "first_active_month_month 12 1\n",
      "first_active_month_weekofyear 53 1\n",
      "first_active_month_quarter 4 1\n",
      "first_active_month_is_month_start 1 1\n",
      "elapsed_time 2284 0\n",
      "elapsed_time_feature_1 7765 0\n",
      "elapsed_time_feature_2 6852 0\n",
      "elapsed_time_feature_3 2284 0\n"
     ]
    }
   ],
   "source": [
    "for c in df.columns: \n",
    "    print(c, df[c].max(), df[c].min())"
   ]
  },
  {
   "cell_type": "code",
   "execution_count": 122,
   "metadata": {},
   "outputs": [
    {
     "name": "stdout",
     "output_type": "stream",
     "text": [
      "________________________________________________________________________________________\n",
      "Layer (type)                 Output Shape       Param #   Connected to                  \n",
      "========================================================================================\n",
      "elapsed_time_feature_1 (Inpu (None, 1)          0                                       \n",
      "________________________________________________________________________________________\n",
      "elapsed_time_feature_2 (Inpu (None, 1)          0                                       \n",
      "________________________________________________________________________________________\n",
      "elapsed_time_feature_3 (Inpu (None, 1)          0                                       \n",
      "________________________________________________________________________________________\n",
      "elapsed_time_feature_1_embed (None, 1, 4)       31064     elapsed_time_feature_1[0][0]  \n",
      "________________________________________________________________________________________\n",
      "elapsed_time_feature_2_embed (None, 1, 4)       27412     elapsed_time_feature_2[0][0]  \n",
      "________________________________________________________________________________________\n",
      "elapsed_time_feature_3_embed (None, 1, 4)       9140      elapsed_time_feature_3[0][0]  \n",
      "________________________________________________________________________________________\n",
      "concatenate_12 (Concatenate) (None, 1, 12)      0         elapsed_time_feature_1_embedde\n",
      "                                                          elapsed_time_feature_2_embedde\n",
      "                                                          elapsed_time_feature_3_embedde\n",
      "________________________________________________________________________________________\n",
      "flatten_11 (Flatten)         (None, 12)         0         concatenate_12[0][0]          \n",
      "________________________________________________________________________________________\n",
      "dense_26 (Dense)             (None, 16)         208       flatten_11[0][0]              \n",
      "________________________________________________________________________________________\n",
      "batch_normalization_5 (Batch (None, 16)         64        dense_26[0][0]                \n",
      "________________________________________________________________________________________\n",
      "leaky_re_lu_5 (LeakyReLU)    (None, 16)         0         batch_normalization_5[0][0]   \n",
      "________________________________________________________________________________________\n",
      "dense_27 (Dense)             (None, 32)         544       leaky_re_lu_5[0][0]           \n",
      "________________________________________________________________________________________\n",
      "batch_normalization_6 (Batch (None, 32)         128       dense_27[0][0]                \n",
      "________________________________________________________________________________________\n",
      "leaky_re_lu_6 (LeakyReLU)    (None, 32)         0         batch_normalization_6[0][0]   \n",
      "________________________________________________________________________________________\n",
      "dense_28 (Dense)             (None, 4)          132       leaky_re_lu_6[0][0]           \n",
      "________________________________________________________________________________________\n",
      "batch_normalization_7 (Batch (None, 4)          16        dense_28[0][0]                \n",
      "________________________________________________________________________________________\n",
      "leaky_re_lu_7 (LeakyReLU)    (None, 4)          0         batch_normalization_7[0][0]   \n",
      "________________________________________________________________________________________\n",
      "dropout_5 (Dropout)          (None, 4)          0         leaky_re_lu_7[0][0]           \n",
      "________________________________________________________________________________________\n",
      "prediction (Dense)           (None, 1)          5         dropout_5[0][0]               \n",
      "========================================================================================\n",
      "Total params: 68,713\n",
      "Trainable params: 68,609\n",
      "Non-trainable params: 104\n",
      "________________________________________________________________________________________\n"
     ]
    }
   ],
   "source": [
    "hidden_units = (16, 32, 4)\n",
    "elapsed_time_feature_1_embedding_size = 4\n",
    "elapsed_time_feature_2_embedding_size = 4\n",
    "elapsed_time_feature_3_embedding_size = 4\n",
    "\n",
    "# Each instance will consist of two inputs: a single user id, and a single movie id\n",
    "elapsed_time_feature_1_input = keras.Input(shape=(1,), name='elapsed_time_feature_1')\n",
    "elapsed_time_feature_2_input = keras.Input(shape=(1,), name='elapsed_time_feature_2')\n",
    "elapsed_time_feature_3_input = keras.Input(shape=(1,), name='elapsed_time_feature_3')\n",
    "\n",
    "elapsed_time_feature_1_embedded = keras.layers.Embedding(\n",
    "    df.elapsed_time_feature_1.max()+1, \n",
    "    elapsed_time_feature_1_embedding_size,\n",
    "    input_length=1,\n",
    "    name='elapsed_time_feature_1_embedded')(elapsed_time_feature_1_input)\n",
    "\n",
    "elapsed_time_feature_2_embedded = keras.layers.Embedding(\n",
    "    df.elapsed_time_feature_2.max()+1, \n",
    "    elapsed_time_feature_2_embedding_size,\n",
    "    input_length=1,\n",
    "    name='elapsed_time_feature_2_embedded')(elapsed_time_feature_2_input)\n",
    "\n",
    "elapsed_time_feature_3_embedded = keras.layers.Embedding(\n",
    "    df.elapsed_time_feature_3.max()+1, \n",
    "    elapsed_time_feature_3_embedding_size,\n",
    "    input_length=1,\n",
    "    name='elapsed_time_feature_3_embedded')(elapsed_time_feature_3_input)\n",
    "\n",
    "concatenated = keras.layers.Concatenate()(\n",
    "    [elapsed_time_feature_1_embedded, elapsed_time_feature_2_embedded, elapsed_time_feature_3_embedded])\n",
    "# dotted = keras.layers.Dot(3)([\n",
    "#     elapsed_time_feature_1_embedded, elapsed_time_feature_2_embedded, elapsed_time_feature_3_embedded\n",
    "# ])\n",
    "out = keras.layers.Flatten()(concatenated)\n",
    "\n",
    "for n_hidden in hidden_units:\n",
    "    out = keras.layers.Dense(n_hidden, activation='relu')(out)\n",
    "    out = keras.layers.BatchNormalization()(out)\n",
    "    out = keras.layers.LeakyReLU(alpha=.001)(out)\n",
    "\n",
    "out = keras.layers.Dropout(0.2)(out)\n",
    "out = keras.layers.Dense(1, activation='linear', name='prediction')(out)\n",
    "\n",
    "model = keras.Model(\n",
    "    inputs = [elapsed_time_feature_1_input, elapsed_time_feature_2_input, elapsed_time_feature_3_input],\n",
    "    outputs = out,\n",
    ")\n",
    "model.summary(line_length=88)"
   ]
  },
  {
   "cell_type": "code",
   "execution_count": 115,
   "metadata": {},
   "outputs": [],
   "source": [
    "y = (df.target - df.target.mean()) / df.target.std()"
   ]
  },
  {
   "cell_type": "code",
   "execution_count": 116,
   "metadata": {},
   "outputs": [
    {
     "name": "stdout",
     "output_type": "stream",
     "text": [
      "Train on 159768 samples, validate on 39942 samples\n",
      "Epoch 1/10\n",
      "Epoch 2/10\n",
      "Epoch 3/10\n",
      "Epoch 4/10\n",
      "Epoch 5/10\n",
      "Epoch 6/10\n",
      "Epoch 7/10\n",
      "Epoch 8/10\n",
      "Epoch 9/10\n",
      "Epoch 10/10\n"
     ]
    }
   ],
   "source": [
    "model.compile(\n",
    "    tf.train.AdamOptimizer(0.005),\n",
    "    loss='MSE',\n",
    "    metrics=['MAE'],\n",
    ")\n",
    "\n",
    "history = model.fit(\n",
    "    [df.elapsed_time_feature_1, \n",
    "     df.elapsed_time_feature_2,\n",
    "     df.elapsed_time_feature_3],\n",
    "    y,\n",
    "    batch_size=64,\n",
    "    epochs=10,\n",
    "    verbose=100,\n",
    "    validation_split=0.2,\n",
    ")"
   ]
  },
  {
   "cell_type": "code",
   "execution_count": 117,
   "metadata": {},
   "outputs": [
    {
     "data": {
      "image/png": "[encoded data removed]",
      "text/plain": [
       "<Figure size 1080x432 with 1 Axes>"
      ]
     },
     "metadata": {
      "needs_background": "light"
     },
     "output_type": "display_data"
    }
   ],
   "source": [
    "fig, ax = plt.subplots(figsize=(15, 6))\n",
    "ax.plot(history.epoch, history.history['val_mean_absolute_error'], label='Validation MAE')\n",
    "ax.plot(history.epoch, history.history['mean_absolute_error'], label='Training MAE')\n",
    "ax.set_xlabel('Epoch')\n",
    "ax.set_ylabel('Mean Absolute Error')\n",
    "ax.set_xlim(left=0, right=history.epoch[-1])\n",
    "# baseline_mae = 0\n",
    "# ax.axhline(baseline_mae, ls='--', label='Baseline', color='#002255', alpha=.5)\n",
    "ax.grid(True)\n",
    "fig.legend();"
   ]
  },
  {
   "cell_type": "code",
   "execution_count": 128,
   "metadata": {},
   "outputs": [
    {
     "data": {
      "text/plain": [
       "'2018-02-01'"
      ]
     },
     "execution_count": 128,
     "metadata": {},
     "output_type": "execute_result"
    }
   ],
   "source": [
    "df.first_active_month.max()"
   ]
  },
  {
   "cell_type": "code",
   "execution_count": 127,
   "metadata": {},
   "outputs": [
    {
     "data": {
      "text/plain": [
       "'2018-01-01'"
      ]
     },
     "execution_count": 127,
     "metadata": {},
     "output_type": "execute_result"
    }
   ],
   "source": [
    "test.first_active_month.max()"
   ]
  },
  {
   "cell_type": "code",
   "execution_count": null,
   "metadata": {},
   "outputs": [],
   "source": []
  }
 ],
 "metadata": {
  "kernelspec": {
   "display_name": "Python 3",
   "language": "python",
   "name": "python3"
  },
  "language_info": {
   "codemirror_mode": {
    "name": "ipython",
    "version": 3
   },
   "file_extension": ".py",
   "mimetype": "text/x-python",
   "name": "python",
   "nbconvert_exporter": "python",
   "pygments_lexer": "ipython3",
   "version": "3.6.1"
  },
  "toc": {
   "base_numbering": 1,
   "nav_menu": {},
   "number_sections": true,
   "sideBar": true,
   "skip_h1_title": false,
   "title_cell": "Table of Contents",
   "title_sidebar": "Contents",
   "toc_cell": false,
   "toc_position": {},
   "toc_section_display": true,
   "toc_window_display": false
  }
 },
 "nbformat": 4,
 "nbformat_minor": 2
}
