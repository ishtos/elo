{
 "cells": [
  {
   "cell_type": "markdown",
   "metadata": {},
   "source": [
    "# import library"
   ]
  },
  {
   "cell_type": "code",
   "execution_count": 1,
   "metadata": {},
   "outputs": [],
   "source": [
    "import os \n",
    "import sys\n",
    "import pandas as pd \n",
    "import numpy as np"
   ]
  },
  {
   "cell_type": "code",
   "execution_count": 2,
   "metadata": {},
   "outputs": [],
   "source": [
    "pd.options.display.max_columns = None"
   ]
  },
  {
   "cell_type": "markdown",
   "metadata": {},
   "source": [
    "# merchants"
   ]
  },
  {
   "cell_type": "code",
   "execution_count": 3,
   "metadata": {},
   "outputs": [],
   "source": [
    "merchants = pd.read_csv('../input/merchants.csv')"
   ]
  },
  {
   "cell_type": "code",
   "execution_count": null,
   "metadata": {},
   "outputs": [],
   "source": [
    "merchants.head()"
   ]
  },
  {
   "cell_type": "code",
   "execution_count": null,
   "metadata": {},
   "outputs": [],
   "source": [
    "historical_transactions = pd.read_csv('../data/historical_transactions.csv', usecols=['card_id', 'merchant_id', 'purchase_date'])"
   ]
  },
  {
   "cell_type": "code",
   "execution_count": null,
   "metadata": {},
   "outputs": [],
   "source": [
    "merchants.shape"
   ]
  },
  {
   "cell_type": "code",
   "execution_count": null,
   "metadata": {},
   "outputs": [],
   "source": [
    "len(merchants.merchant_id.unique())"
   ]
  },
  {
   "cell_type": "code",
   "execution_count": null,
   "metadata": {},
   "outputs": [],
   "source": [
    "merchants.nunique()"
   ]
  },
  {
   "cell_type": "code",
   "execution_count": null,
   "metadata": {},
   "outputs": [],
   "source": [
    "category = ['category_1', 'category_4', 'most_recent_sales_range', 'most_recent_purchases_range']"
   ]
  },
  {
   "cell_type": "code",
   "execution_count": null,
   "metadata": {},
   "outputs": [],
   "source": [
    "for c in category:\n",
    "    print(merchants[c].unique())"
   ]
  },
  {
   "cell_type": "code",
   "execution_count": null,
   "metadata": {},
   "outputs": [],
   "source": [
    "map_dict = {'N': 0, 'Y': 1}\n",
    "merchants['category_1'] = merchants['category_1'].apply(lambda x: map_dict[x])\n",
    "merchants['category_4'] = merchants['category_4'].apply(lambda x: map_dict[x])\n",
    "map_dict = {'A': 0, 'B': 1, 'C': 2, 'D': 3, 'E': 4}\n",
    "merchants['most_recent_sales_range'] = merchants['most_recent_sales_range'].apply(lambda x: map_dict[x])\n",
    "merchants['most_recent_purchases_range'] = merchants['most_recent_purchases_range'].apply(lambda x: map_dict[x])"
   ]
  },
  {
   "cell_type": "code",
   "execution_count": null,
   "metadata": {},
   "outputs": [],
   "source": [
    "merchants.head()"
   ]
  },
  {
   "cell_type": "code",
   "execution_count": null,
   "metadata": {},
   "outputs": [],
   "source": [
    "from collections import Counter"
   ]
  },
  {
   "cell_type": "code",
   "execution_count": null,
   "metadata": {},
   "outputs": [],
   "source": [
    "c = Counter(merchants['merchant_id'])"
   ]
  },
  {
   "cell_type": "code",
   "execution_count": null,
   "metadata": {},
   "outputs": [],
   "source": [
    "c.most_common(41)"
   ]
  },
  {
   "cell_type": "code",
   "execution_count": null,
   "metadata": {},
   "outputs": [],
   "source": [
    "merchants.query('merchant_id == \"M_ID_bd49e37dda\"')"
   ]
  },
  {
   "cell_type": "code",
   "execution_count": null,
   "metadata": {},
   "outputs": [],
   "source": [
    "merchants.query('merchant_id == \"M_ID_ef233cff26\"')"
   ]
  },
  {
   "cell_type": "code",
   "execution_count": null,
   "metadata": {},
   "outputs": [],
   "source": [
    "merchants.query('merchant_id == \"M_ID_c0b712e11a\"')"
   ]
  },
  {
   "cell_type": "code",
   "execution_count": null,
   "metadata": {},
   "outputs": [],
   "source": [
    "merchants = merchants.drop_duplicates(subset=['merchant_id'], keep='first').reset_index(drop=True)"
   ]
  },
  {
   "cell_type": "code",
   "execution_count": null,
   "metadata": {},
   "outputs": [],
   "source": [
    "merchants.nunique()"
   ]
  },
  {
   "cell_type": "code",
   "execution_count": null,
   "metadata": {},
   "outputs": [],
   "source": [
    "historical_transactions.head()"
   ]
  },
  {
   "cell_type": "code",
   "execution_count": null,
   "metadata": {},
   "outputs": [],
   "source": [
    "historical_transactions = pd.merge(historical_transactions, merchants, on='merchant_id', how='left')"
   ]
  },
  {
   "cell_type": "code",
   "execution_count": null,
   "metadata": {
    "scrolled": true
   },
   "outputs": [],
   "source": [
    "historical_transactions.head()"
   ]
  },
  {
   "cell_type": "code",
   "execution_count": null,
   "metadata": {},
   "outputs": [],
   "source": [
    "historical_transactions['most_recent_sales_range'].unique()"
   ]
  },
  {
   "cell_type": "code",
   "execution_count": null,
   "metadata": {},
   "outputs": [],
   "source": [
    "f = pd.read_pickle('../feature/f302.pkl')"
   ]
  },
  {
   "cell_type": "code",
   "execution_count": null,
   "metadata": {},
   "outputs": [],
   "source": [
    "f.head()"
   ]
  },
  {
   "cell_type": "code",
   "execution_count": null,
   "metadata": {},
   "outputs": [],
   "source": [
    "len(f.card_id) == len(f.card_id.unique())"
   ]
  },
  {
   "cell_type": "code",
   "execution_count": 5,
   "metadata": {},
   "outputs": [],
   "source": [
    "union = pd.read_csv('../data/union.csv', usecols=['card_id', 'merchant_id'])"
   ]
  },
  {
   "cell_type": "code",
   "execution_count": 6,
   "metadata": {},
   "outputs": [
    {
     "data": {
      "text/html": [
       "<div>\n",
       "<style scoped>\n",
       "    .dataframe tbody tr th:only-of-type {\n",
       "        vertical-align: middle;\n",
       "    }\n",
       "\n",
       "    .dataframe tbody tr th {\n",
       "        vertical-align: top;\n",
       "    }\n",
       "\n",
       "    .dataframe thead th {\n",
       "        text-align: right;\n",
       "    }\n",
       "</style>\n",
       "<table border=\"1\" class=\"dataframe\">\n",
       "  <thead>\n",
       "    <tr style=\"text-align: right;\">\n",
       "      <th></th>\n",
       "      <th>card_id</th>\n",
       "      <th>merchant_id</th>\n",
       "    </tr>\n",
       "  </thead>\n",
       "  <tbody>\n",
       "    <tr>\n",
       "      <th>0</th>\n",
       "      <td>C_ID_4e6213e9bc</td>\n",
       "      <td>M_ID_e020e9b302</td>\n",
       "    </tr>\n",
       "    <tr>\n",
       "      <th>1</th>\n",
       "      <td>C_ID_4e6213e9bc</td>\n",
       "      <td>M_ID_86ec983688</td>\n",
       "    </tr>\n",
       "    <tr>\n",
       "      <th>2</th>\n",
       "      <td>C_ID_4e6213e9bc</td>\n",
       "      <td>M_ID_979ed661fc</td>\n",
       "    </tr>\n",
       "    <tr>\n",
       "      <th>3</th>\n",
       "      <td>C_ID_4e6213e9bc</td>\n",
       "      <td>M_ID_e6d5ae8ea6</td>\n",
       "    </tr>\n",
       "    <tr>\n",
       "      <th>4</th>\n",
       "      <td>C_ID_4e6213e9bc</td>\n",
       "      <td>M_ID_e020e9b302</td>\n",
       "    </tr>\n",
       "  </tbody>\n",
       "</table>\n",
       "</div>"
      ],
      "text/plain": [
       "           card_id      merchant_id\n",
       "0  C_ID_4e6213e9bc  M_ID_e020e9b302\n",
       "1  C_ID_4e6213e9bc  M_ID_86ec983688\n",
       "2  C_ID_4e6213e9bc  M_ID_979ed661fc\n",
       "3  C_ID_4e6213e9bc  M_ID_e6d5ae8ea6\n",
       "4  C_ID_4e6213e9bc  M_ID_e020e9b302"
      ]
     },
     "execution_count": 6,
     "metadata": {},
     "output_type": "execute_result"
    }
   ],
   "source": [
    "union.head()"
   ]
  },
  {
   "cell_type": "code",
   "execution_count": 7,
   "metadata": {},
   "outputs": [
    {
     "data": {
      "text/html": [
       "<div>\n",
       "<style scoped>\n",
       "    .dataframe tbody tr th:only-of-type {\n",
       "        vertical-align: middle;\n",
       "    }\n",
       "\n",
       "    .dataframe tbody tr th {\n",
       "        vertical-align: top;\n",
       "    }\n",
       "\n",
       "    .dataframe thead th {\n",
       "        text-align: right;\n",
       "    }\n",
       "</style>\n",
       "<table border=\"1\" class=\"dataframe\">\n",
       "  <thead>\n",
       "    <tr style=\"text-align: right;\">\n",
       "      <th></th>\n",
       "      <th>card_id</th>\n",
       "      <th>merchant_id</th>\n",
       "    </tr>\n",
       "  </thead>\n",
       "  <tbody>\n",
       "    <tr>\n",
       "      <th>0</th>\n",
       "      <td>C_ID_4e6213e9bc</td>\n",
       "      <td>M_ID_e020e9b302</td>\n",
       "    </tr>\n",
       "    <tr>\n",
       "      <th>1</th>\n",
       "      <td>C_ID_4e6213e9bc</td>\n",
       "      <td>M_ID_86ec983688</td>\n",
       "    </tr>\n",
       "    <tr>\n",
       "      <th>2</th>\n",
       "      <td>C_ID_4e6213e9bc</td>\n",
       "      <td>M_ID_979ed661fc</td>\n",
       "    </tr>\n",
       "    <tr>\n",
       "      <th>3</th>\n",
       "      <td>C_ID_4e6213e9bc</td>\n",
       "      <td>M_ID_e6d5ae8ea6</td>\n",
       "    </tr>\n",
       "    <tr>\n",
       "      <th>5</th>\n",
       "      <td>C_ID_4e6213e9bc</td>\n",
       "      <td>M_ID_50af771f8d</td>\n",
       "    </tr>\n",
       "    <tr>\n",
       "      <th>6</th>\n",
       "      <td>C_ID_4e6213e9bc</td>\n",
       "      <td>M_ID_5e8220e564</td>\n",
       "    </tr>\n",
       "    <tr>\n",
       "      <th>7</th>\n",
       "      <td>C_ID_4e6213e9bc</td>\n",
       "      <td>M_ID_9d41786a50</td>\n",
       "    </tr>\n",
       "    <tr>\n",
       "      <th>9</th>\n",
       "      <td>C_ID_4e6213e9bc</td>\n",
       "      <td>M_ID_74ba14b5fc</td>\n",
       "    </tr>\n",
       "    <tr>\n",
       "      <th>10</th>\n",
       "      <td>C_ID_4e6213e9bc</td>\n",
       "      <td>M_ID_1449f22bfb</td>\n",
       "    </tr>\n",
       "    <tr>\n",
       "      <th>11</th>\n",
       "      <td>C_ID_4e6213e9bc</td>\n",
       "      <td>M_ID_7c5e93af2f</td>\n",
       "    </tr>\n",
       "    <tr>\n",
       "      <th>13</th>\n",
       "      <td>C_ID_4e6213e9bc</td>\n",
       "      <td>M_ID_e8fb39882d</td>\n",
       "    </tr>\n",
       "    <tr>\n",
       "      <th>14</th>\n",
       "      <td>C_ID_4e6213e9bc</td>\n",
       "      <td>M_ID_97e86eae5f</td>\n",
       "    </tr>\n",
       "    <tr>\n",
       "      <th>16</th>\n",
       "      <td>C_ID_4e6213e9bc</td>\n",
       "      <td>M_ID_00a6ca8a8a</td>\n",
       "    </tr>\n",
       "    <tr>\n",
       "      <th>17</th>\n",
       "      <td>C_ID_4e6213e9bc</td>\n",
       "      <td>M_ID_21e1552dab</td>\n",
       "    </tr>\n",
       "    <tr>\n",
       "      <th>18</th>\n",
       "      <td>C_ID_4e6213e9bc</td>\n",
       "      <td>M_ID_4524a562f3</td>\n",
       "    </tr>\n",
       "    <tr>\n",
       "      <th>24</th>\n",
       "      <td>C_ID_4e6213e9bc</td>\n",
       "      <td>M_ID_79db784180</td>\n",
       "    </tr>\n",
       "    <tr>\n",
       "      <th>29</th>\n",
       "      <td>C_ID_4e6213e9bc</td>\n",
       "      <td>M_ID_dc7356f06d</td>\n",
       "    </tr>\n",
       "    <tr>\n",
       "      <th>30</th>\n",
       "      <td>C_ID_4e6213e9bc</td>\n",
       "      <td>M_ID_98b342c0e3</td>\n",
       "    </tr>\n",
       "    <tr>\n",
       "      <th>32</th>\n",
       "      <td>C_ID_4e6213e9bc</td>\n",
       "      <td>M_ID_980d5f51ae</td>\n",
       "    </tr>\n",
       "    <tr>\n",
       "      <th>35</th>\n",
       "      <td>C_ID_4e6213e9bc</td>\n",
       "      <td>M_ID_50f575c681</td>\n",
       "    </tr>\n",
       "    <tr>\n",
       "      <th>36</th>\n",
       "      <td>C_ID_4e6213e9bc</td>\n",
       "      <td>M_ID_28a12189ea</td>\n",
       "    </tr>\n",
       "    <tr>\n",
       "      <th>43</th>\n",
       "      <td>C_ID_4e6213e9bc</td>\n",
       "      <td>NaN</td>\n",
       "    </tr>\n",
       "    <tr>\n",
       "      <th>49</th>\n",
       "      <td>C_ID_4e6213e9bc</td>\n",
       "      <td>M_ID_c2a7f2dccf</td>\n",
       "    </tr>\n",
       "    <tr>\n",
       "      <th>50</th>\n",
       "      <td>C_ID_4e6213e9bc</td>\n",
       "      <td>M_ID_001d92b649</td>\n",
       "    </tr>\n",
       "    <tr>\n",
       "      <th>54</th>\n",
       "      <td>C_ID_4e6213e9bc</td>\n",
       "      <td>M_ID_8402682d1b</td>\n",
       "    </tr>\n",
       "    <tr>\n",
       "      <th>55</th>\n",
       "      <td>C_ID_4e6213e9bc</td>\n",
       "      <td>M_ID_13aa6b335f</td>\n",
       "    </tr>\n",
       "    <tr>\n",
       "      <th>68</th>\n",
       "      <td>C_ID_4e6213e9bc</td>\n",
       "      <td>M_ID_83367527c8</td>\n",
       "    </tr>\n",
       "    <tr>\n",
       "      <th>72</th>\n",
       "      <td>C_ID_4e6213e9bc</td>\n",
       "      <td>M_ID_89c56116e9</td>\n",
       "    </tr>\n",
       "    <tr>\n",
       "      <th>86</th>\n",
       "      <td>C_ID_4e6213e9bc</td>\n",
       "      <td>M_ID_e68ba142de</td>\n",
       "    </tr>\n",
       "    <tr>\n",
       "      <th>88</th>\n",
       "      <td>C_ID_4e6213e9bc</td>\n",
       "      <td>M_ID_e8062abeef</td>\n",
       "    </tr>\n",
       "    <tr>\n",
       "      <th>...</th>\n",
       "      <td>...</td>\n",
       "      <td>...</td>\n",
       "    </tr>\n",
       "    <tr>\n",
       "      <th>31075362</th>\n",
       "      <td>C_ID_69f1f3ebe6</td>\n",
       "      <td>M_ID_deb43ff012</td>\n",
       "    </tr>\n",
       "    <tr>\n",
       "      <th>31075363</th>\n",
       "      <td>C_ID_df4e6d6000</td>\n",
       "      <td>M_ID_4247d8f9d5</td>\n",
       "    </tr>\n",
       "    <tr>\n",
       "      <th>31075364</th>\n",
       "      <td>C_ID_1237c3fdc8</td>\n",
       "      <td>M_ID_9a30428081</td>\n",
       "    </tr>\n",
       "    <tr>\n",
       "      <th>31075365</th>\n",
       "      <td>C_ID_f992de33d6</td>\n",
       "      <td>M_ID_9501338459</td>\n",
       "    </tr>\n",
       "    <tr>\n",
       "      <th>31075366</th>\n",
       "      <td>C_ID_e81ed766f7</td>\n",
       "      <td>M_ID_0180a94418</td>\n",
       "    </tr>\n",
       "    <tr>\n",
       "      <th>31075367</th>\n",
       "      <td>C_ID_b77af92f06</td>\n",
       "      <td>M_ID_916fb760fc</td>\n",
       "    </tr>\n",
       "    <tr>\n",
       "      <th>31075368</th>\n",
       "      <td>C_ID_abe7761316</td>\n",
       "      <td>M_ID_50f575c681</td>\n",
       "    </tr>\n",
       "    <tr>\n",
       "      <th>31075369</th>\n",
       "      <td>C_ID_734044eeeb</td>\n",
       "      <td>M_ID_d08abd9332</td>\n",
       "    </tr>\n",
       "    <tr>\n",
       "      <th>31075370</th>\n",
       "      <td>C_ID_1e2c41f86e</td>\n",
       "      <td>M_ID_cf49ae3158</td>\n",
       "    </tr>\n",
       "    <tr>\n",
       "      <th>31075371</th>\n",
       "      <td>C_ID_737e5c1d9f</td>\n",
       "      <td>M_ID_670cdecb69</td>\n",
       "    </tr>\n",
       "    <tr>\n",
       "      <th>31075372</th>\n",
       "      <td>C_ID_28a5007fc6</td>\n",
       "      <td>M_ID_fc7d7969c3</td>\n",
       "    </tr>\n",
       "    <tr>\n",
       "      <th>31075373</th>\n",
       "      <td>C_ID_a491e3dced</td>\n",
       "      <td>M_ID_4f04567628</td>\n",
       "    </tr>\n",
       "    <tr>\n",
       "      <th>31075374</th>\n",
       "      <td>C_ID_475e1a530f</td>\n",
       "      <td>M_ID_cd2c0b07e9</td>\n",
       "    </tr>\n",
       "    <tr>\n",
       "      <th>31075375</th>\n",
       "      <td>C_ID_ef391c6cec</td>\n",
       "      <td>M_ID_7c8a56dbd3</td>\n",
       "    </tr>\n",
       "    <tr>\n",
       "      <th>31075376</th>\n",
       "      <td>C_ID_06512aaeca</td>\n",
       "      <td>M_ID_f3867a48a4</td>\n",
       "    </tr>\n",
       "    <tr>\n",
       "      <th>31075377</th>\n",
       "      <td>C_ID_c0c1724034</td>\n",
       "      <td>M_ID_b89572fff4</td>\n",
       "    </tr>\n",
       "    <tr>\n",
       "      <th>31075378</th>\n",
       "      <td>C_ID_bb36dec90b</td>\n",
       "      <td>M_ID_b5e5acf804</td>\n",
       "    </tr>\n",
       "    <tr>\n",
       "      <th>31075379</th>\n",
       "      <td>C_ID_8dedf7350a</td>\n",
       "      <td>M_ID_c0915e5912</td>\n",
       "    </tr>\n",
       "    <tr>\n",
       "      <th>31075380</th>\n",
       "      <td>C_ID_5aa521bb3e</td>\n",
       "      <td>M_ID_3111c6df35</td>\n",
       "    </tr>\n",
       "    <tr>\n",
       "      <th>31075381</th>\n",
       "      <td>C_ID_c07707ff74</td>\n",
       "      <td>M_ID_7dabac675c</td>\n",
       "    </tr>\n",
       "    <tr>\n",
       "      <th>31075382</th>\n",
       "      <td>C_ID_c0dda9d36b</td>\n",
       "      <td>M_ID_96e6a85df9</td>\n",
       "    </tr>\n",
       "    <tr>\n",
       "      <th>31075383</th>\n",
       "      <td>C_ID_01d35d1005</td>\n",
       "      <td>M_ID_f028b9c665</td>\n",
       "    </tr>\n",
       "    <tr>\n",
       "      <th>31075384</th>\n",
       "      <td>C_ID_611d4d588f</td>\n",
       "      <td>M_ID_ee5a6f6a35</td>\n",
       "    </tr>\n",
       "    <tr>\n",
       "      <th>31075385</th>\n",
       "      <td>C_ID_0509e85404</td>\n",
       "      <td>M_ID_531bc3b325</td>\n",
       "    </tr>\n",
       "    <tr>\n",
       "      <th>31075386</th>\n",
       "      <td>C_ID_d3ad1091dc</td>\n",
       "      <td>M_ID_feaccfbea2</td>\n",
       "    </tr>\n",
       "    <tr>\n",
       "      <th>31075387</th>\n",
       "      <td>C_ID_1320dee851</td>\n",
       "      <td>M_ID_7754b67f3b</td>\n",
       "    </tr>\n",
       "    <tr>\n",
       "      <th>31075388</th>\n",
       "      <td>C_ID_f112aa3381</td>\n",
       "      <td>M_ID_da063195b7</td>\n",
       "    </tr>\n",
       "    <tr>\n",
       "      <th>31075389</th>\n",
       "      <td>C_ID_bd97b86450</td>\n",
       "      <td>M_ID_9a9ccb6544</td>\n",
       "    </tr>\n",
       "    <tr>\n",
       "      <th>31075390</th>\n",
       "      <td>C_ID_c0513fd84f</td>\n",
       "      <td>M_ID_40c28d596f</td>\n",
       "    </tr>\n",
       "    <tr>\n",
       "      <th>31075391</th>\n",
       "      <td>C_ID_a935410f8e</td>\n",
       "      <td>M_ID_d855771cd9</td>\n",
       "    </tr>\n",
       "  </tbody>\n",
       "</table>\n",
       "<p>13012970 rows × 2 columns</p>\n",
       "</div>"
      ],
      "text/plain": [
       "                  card_id      merchant_id\n",
       "0         C_ID_4e6213e9bc  M_ID_e020e9b302\n",
       "1         C_ID_4e6213e9bc  M_ID_86ec983688\n",
       "2         C_ID_4e6213e9bc  M_ID_979ed661fc\n",
       "3         C_ID_4e6213e9bc  M_ID_e6d5ae8ea6\n",
       "5         C_ID_4e6213e9bc  M_ID_50af771f8d\n",
       "6         C_ID_4e6213e9bc  M_ID_5e8220e564\n",
       "7         C_ID_4e6213e9bc  M_ID_9d41786a50\n",
       "9         C_ID_4e6213e9bc  M_ID_74ba14b5fc\n",
       "10        C_ID_4e6213e9bc  M_ID_1449f22bfb\n",
       "11        C_ID_4e6213e9bc  M_ID_7c5e93af2f\n",
       "13        C_ID_4e6213e9bc  M_ID_e8fb39882d\n",
       "14        C_ID_4e6213e9bc  M_ID_97e86eae5f\n",
       "16        C_ID_4e6213e9bc  M_ID_00a6ca8a8a\n",
       "17        C_ID_4e6213e9bc  M_ID_21e1552dab\n",
       "18        C_ID_4e6213e9bc  M_ID_4524a562f3\n",
       "24        C_ID_4e6213e9bc  M_ID_79db784180\n",
       "29        C_ID_4e6213e9bc  M_ID_dc7356f06d\n",
       "30        C_ID_4e6213e9bc  M_ID_98b342c0e3\n",
       "32        C_ID_4e6213e9bc  M_ID_980d5f51ae\n",
       "35        C_ID_4e6213e9bc  M_ID_50f575c681\n",
       "36        C_ID_4e6213e9bc  M_ID_28a12189ea\n",
       "43        C_ID_4e6213e9bc              NaN\n",
       "49        C_ID_4e6213e9bc  M_ID_c2a7f2dccf\n",
       "50        C_ID_4e6213e9bc  M_ID_001d92b649\n",
       "54        C_ID_4e6213e9bc  M_ID_8402682d1b\n",
       "55        C_ID_4e6213e9bc  M_ID_13aa6b335f\n",
       "68        C_ID_4e6213e9bc  M_ID_83367527c8\n",
       "72        C_ID_4e6213e9bc  M_ID_89c56116e9\n",
       "86        C_ID_4e6213e9bc  M_ID_e68ba142de\n",
       "88        C_ID_4e6213e9bc  M_ID_e8062abeef\n",
       "...                   ...              ...\n",
       "31075362  C_ID_69f1f3ebe6  M_ID_deb43ff012\n",
       "31075363  C_ID_df4e6d6000  M_ID_4247d8f9d5\n",
       "31075364  C_ID_1237c3fdc8  M_ID_9a30428081\n",
       "31075365  C_ID_f992de33d6  M_ID_9501338459\n",
       "31075366  C_ID_e81ed766f7  M_ID_0180a94418\n",
       "31075367  C_ID_b77af92f06  M_ID_916fb760fc\n",
       "31075368  C_ID_abe7761316  M_ID_50f575c681\n",
       "31075369  C_ID_734044eeeb  M_ID_d08abd9332\n",
       "31075370  C_ID_1e2c41f86e  M_ID_cf49ae3158\n",
       "31075371  C_ID_737e5c1d9f  M_ID_670cdecb69\n",
       "31075372  C_ID_28a5007fc6  M_ID_fc7d7969c3\n",
       "31075373  C_ID_a491e3dced  M_ID_4f04567628\n",
       "31075374  C_ID_475e1a530f  M_ID_cd2c0b07e9\n",
       "31075375  C_ID_ef391c6cec  M_ID_7c8a56dbd3\n",
       "31075376  C_ID_06512aaeca  M_ID_f3867a48a4\n",
       "31075377  C_ID_c0c1724034  M_ID_b89572fff4\n",
       "31075378  C_ID_bb36dec90b  M_ID_b5e5acf804\n",
       "31075379  C_ID_8dedf7350a  M_ID_c0915e5912\n",
       "31075380  C_ID_5aa521bb3e  M_ID_3111c6df35\n",
       "31075381  C_ID_c07707ff74  M_ID_7dabac675c\n",
       "31075382  C_ID_c0dda9d36b  M_ID_96e6a85df9\n",
       "31075383  C_ID_01d35d1005  M_ID_f028b9c665\n",
       "31075384  C_ID_611d4d588f  M_ID_ee5a6f6a35\n",
       "31075385  C_ID_0509e85404  M_ID_531bc3b325\n",
       "31075386  C_ID_d3ad1091dc  M_ID_feaccfbea2\n",
       "31075387  C_ID_1320dee851  M_ID_7754b67f3b\n",
       "31075388  C_ID_f112aa3381  M_ID_da063195b7\n",
       "31075389  C_ID_bd97b86450  M_ID_9a9ccb6544\n",
       "31075390  C_ID_c0513fd84f  M_ID_40c28d596f\n",
       "31075391  C_ID_a935410f8e  M_ID_d855771cd9\n",
       "\n",
       "[13012970 rows x 2 columns]"
      ]
     },
     "execution_count": 7,
     "metadata": {},
     "output_type": "execute_result"
    }
   ],
   "source": [
    "union = union.drop_duplicates(keep='first')"
   ]
  },
  {
   "cell_type": "code",
   "execution_count": null,
   "metadata": {},
   "outputs": [],
   "source": []
  }
 ],
 "metadata": {
  "kernelspec": {
   "display_name": "Python 3",
   "language": "python",
   "name": "python3"
  },
  "language_info": {
   "codemirror_mode": {
    "name": "ipython",
    "version": 3
   },
   "file_extension": ".py",
   "mimetype": "text/x-python",
   "name": "python",
   "nbconvert_exporter": "python",
   "pygments_lexer": "ipython3",
   "version": "3.6.5"
  },
  "toc": {
   "base_numbering": 1,
   "nav_menu": {},
   "number_sections": true,
   "sideBar": true,
   "skip_h1_title": false,
   "title_cell": "Table of Contents",
   "title_sidebar": "Contents",
   "toc_cell": false,
   "toc_position": {},
   "toc_section_display": true,
   "toc_window_display": false
  },
  "varInspector": {
   "cols": {
    "lenName": 16,
    "lenType": 16,
    "lenVar": 40
   },
   "kernels_config": {
    "python": {
     "delete_cmd_postfix": "",
     "delete_cmd_prefix": "del ",
     "library": "var_list.py",
     "varRefreshCmd": "print(var_dic_list())"
    },
    "r": {
     "delete_cmd_postfix": ") ",
     "delete_cmd_prefix": "rm(",
     "library": "var_list.r",
     "varRefreshCmd": "cat(var_dic_list()) "
    }
   },
   "types_to_exclude": [
    "module",
    "function",
    "builtin_function_or_method",
    "instance",
    "_Feature"
   ],
   "window_display": false
  }
 },
 "nbformat": 4,
 "nbformat_minor": 2
}
