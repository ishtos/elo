{
 "cells": [
  {
   "cell_type": "code",
   "execution_count": 1,
   "metadata": {},
   "outputs": [],
   "source": [
    "import pandas as pd\n",
    "\n",
    "from datetime import datetime, date\n",
    "from tqdm import tqdm_notebook as tqdm"
   ]
  },
  {
   "cell_type": "code",
   "execution_count": 31,
   "metadata": {},
   "outputs": [],
   "source": [
    "train = pd.read_csv('../data/train.csv')"
   ]
  },
  {
   "cell_type": "code",
   "execution_count": 32,
   "metadata": {},
   "outputs": [],
   "source": [
    "train['outliers'] = 0\n",
    "train.loc[train['target'] < -30, 'outliers'] = 1"
   ]
  },
  {
   "cell_type": "code",
   "execution_count": 33,
   "metadata": {},
   "outputs": [
    {
     "data": {
      "text/html": [
       "<div>\n",
       "<style scoped>\n",
       "    .dataframe tbody tr th:only-of-type {\n",
       "        vertical-align: middle;\n",
       "    }\n",
       "\n",
       "    .dataframe tbody tr th {\n",
       "        vertical-align: top;\n",
       "    }\n",
       "\n",
       "    .dataframe thead th {\n",
       "        text-align: right;\n",
       "    }\n",
       "</style>\n",
       "<table border=\"1\" class=\"dataframe\">\n",
       "  <thead>\n",
       "    <tr style=\"text-align: right;\">\n",
       "      <th></th>\n",
       "      <th>first_active_month</th>\n",
       "      <th>card_id</th>\n",
       "      <th>feature_1</th>\n",
       "      <th>feature_2</th>\n",
       "      <th>feature_3</th>\n",
       "      <th>target</th>\n",
       "      <th>mean_feature_1</th>\n",
       "      <th>mean_feature_2</th>\n",
       "      <th>mean_feature_3</th>\n",
       "      <th>first_active_month_year</th>\n",
       "      <th>first_active_month_weekday</th>\n",
       "      <th>first_active_month_month</th>\n",
       "      <th>first_active_month_dayofweek</th>\n",
       "      <th>first_active_month_weekofyear</th>\n",
       "      <th>elapsed_time</th>\n",
       "      <th>outliers</th>\n",
       "    </tr>\n",
       "  </thead>\n",
       "  <tbody>\n",
       "    <tr>\n",
       "      <th>0</th>\n",
       "      <td>2017-06-01</td>\n",
       "      <td>C_ID_92a2005557</td>\n",
       "      <td>5</td>\n",
       "      <td>2</td>\n",
       "      <td>1</td>\n",
       "      <td>-0.820283</td>\n",
       "      <td>0.013145</td>\n",
       "      <td>0.008752</td>\n",
       "      <td>0.011428</td>\n",
       "      <td>2017</td>\n",
       "      <td>3</td>\n",
       "      <td>6</td>\n",
       "      <td>3</td>\n",
       "      <td>22</td>\n",
       "      <td>245</td>\n",
       "      <td>0</td>\n",
       "    </tr>\n",
       "    <tr>\n",
       "      <th>1</th>\n",
       "      <td>2017-01-01</td>\n",
       "      <td>C_ID_3d0044924f</td>\n",
       "      <td>4</td>\n",
       "      <td>1</td>\n",
       "      <td>0</td>\n",
       "      <td>0.392913</td>\n",
       "      <td>0.010712</td>\n",
       "      <td>0.011385</td>\n",
       "      <td>0.010283</td>\n",
       "      <td>2017</td>\n",
       "      <td>6</td>\n",
       "      <td>1</td>\n",
       "      <td>6</td>\n",
       "      <td>52</td>\n",
       "      <td>396</td>\n",
       "      <td>0</td>\n",
       "    </tr>\n",
       "    <tr>\n",
       "      <th>2</th>\n",
       "      <td>2016-08-01</td>\n",
       "      <td>C_ID_d639edf6cd</td>\n",
       "      <td>2</td>\n",
       "      <td>2</td>\n",
       "      <td>0</td>\n",
       "      <td>0.688056</td>\n",
       "      <td>0.010610</td>\n",
       "      <td>0.008752</td>\n",
       "      <td>0.010283</td>\n",
       "      <td>2016</td>\n",
       "      <td>0</td>\n",
       "      <td>8</td>\n",
       "      <td>0</td>\n",
       "      <td>31</td>\n",
       "      <td>549</td>\n",
       "      <td>0</td>\n",
       "    </tr>\n",
       "    <tr>\n",
       "      <th>3</th>\n",
       "      <td>2017-09-01</td>\n",
       "      <td>C_ID_186d6a6901</td>\n",
       "      <td>4</td>\n",
       "      <td>3</td>\n",
       "      <td>0</td>\n",
       "      <td>0.142495</td>\n",
       "      <td>0.010712</td>\n",
       "      <td>0.014166</td>\n",
       "      <td>0.010283</td>\n",
       "      <td>2017</td>\n",
       "      <td>4</td>\n",
       "      <td>9</td>\n",
       "      <td>4</td>\n",
       "      <td>35</td>\n",
       "      <td>153</td>\n",
       "      <td>0</td>\n",
       "    </tr>\n",
       "    <tr>\n",
       "      <th>4</th>\n",
       "      <td>2017-11-01</td>\n",
       "      <td>C_ID_cdbd2c0db2</td>\n",
       "      <td>1</td>\n",
       "      <td>3</td>\n",
       "      <td>0</td>\n",
       "      <td>-0.159749</td>\n",
       "      <td>0.008058</td>\n",
       "      <td>0.014166</td>\n",
       "      <td>0.010283</td>\n",
       "      <td>2017</td>\n",
       "      <td>2</td>\n",
       "      <td>11</td>\n",
       "      <td>2</td>\n",
       "      <td>44</td>\n",
       "      <td>92</td>\n",
       "      <td>0</td>\n",
       "    </tr>\n",
       "  </tbody>\n",
       "</table>\n",
       "</div>"
      ],
      "text/plain": [
       "  first_active_month          card_id  feature_1  feature_2  feature_3  \\\n",
       "0         2017-06-01  C_ID_92a2005557          5          2          1   \n",
       "1         2017-01-01  C_ID_3d0044924f          4          1          0   \n",
       "2         2016-08-01  C_ID_d639edf6cd          2          2          0   \n",
       "3         2017-09-01  C_ID_186d6a6901          4          3          0   \n",
       "4         2017-11-01  C_ID_cdbd2c0db2          1          3          0   \n",
       "\n",
       "     target  mean_feature_1  mean_feature_2  mean_feature_3  \\\n",
       "0 -0.820283        0.013145        0.008752        0.011428   \n",
       "1  0.392913        0.010712        0.011385        0.010283   \n",
       "2  0.688056        0.010610        0.008752        0.010283   \n",
       "3  0.142495        0.010712        0.014166        0.010283   \n",
       "4 -0.159749        0.008058        0.014166        0.010283   \n",
       "\n",
       "   first_active_month_year  first_active_month_weekday  \\\n",
       "0                     2017                           3   \n",
       "1                     2017                           6   \n",
       "2                     2016                           0   \n",
       "3                     2017                           4   \n",
       "4                     2017                           2   \n",
       "\n",
       "   first_active_month_month  first_active_month_dayofweek  \\\n",
       "0                         6                             3   \n",
       "1                         1                             6   \n",
       "2                         8                             0   \n",
       "3                         9                             4   \n",
       "4                        11                             2   \n",
       "\n",
       "   first_active_month_weekofyear  elapsed_time  outliers  \n",
       "0                             22           245         0  \n",
       "1                             52           396         0  \n",
       "2                             31           549         0  \n",
       "3                             35           153         0  \n",
       "4                             44            92         0  "
      ]
     },
     "execution_count": 33,
     "metadata": {},
     "output_type": "execute_result"
    }
   ],
   "source": [
    "train.head()"
   ]
  },
  {
   "cell_type": "code",
   "execution_count": 34,
   "metadata": {},
   "outputs": [
    {
     "data": {
      "text/plain": [
       "first_active_month                   75\n",
       "card_id                          201917\n",
       "feature_1                             5\n",
       "feature_2                             3\n",
       "feature_3                             2\n",
       "target                           197110\n",
       "mean_feature_1                        5\n",
       "mean_feature_2                        3\n",
       "mean_feature_3                        2\n",
       "first_active_month_year               8\n",
       "first_active_month_weekday            7\n",
       "first_active_month_month             12\n",
       "first_active_month_dayofweek          7\n",
       "first_active_month_weekofyear        21\n",
       "elapsed_time                         75\n",
       "outliers                              2\n",
       "dtype: int64"
      ]
     },
     "execution_count": 34,
     "metadata": {},
     "output_type": "execute_result"
    }
   ],
   "source": [
    "train.nunique()"
   ]
  },
  {
   "cell_type": "code",
   "execution_count": 35,
   "metadata": {},
   "outputs": [
    {
     "data": {
      "text/plain": [
       "array([2017, 2016, 2015, 2013, 2014, 2012, 2011, 2018])"
      ]
     },
     "execution_count": 35,
     "metadata": {},
     "output_type": "execute_result"
    }
   ],
   "source": [
    "train.first_active_month_year.unique()"
   ]
  },
  {
   "cell_type": "code",
   "execution_count": 36,
   "metadata": {},
   "outputs": [
    {
     "data": {
      "text/plain": [
       "array([ 245,  396,  549,  153,   92,  518,  427,  184,  488,  702,  306,\n",
       "        365,  580,  610,  123,  854,  671,  215,  762,  457,  823, 1737,\n",
       "        731,  641, 1461,  276,   62,  337,  915, 1007, 1127, 1280, 1096,\n",
       "       1341, 1311, 1433,  976, 1372,  793,  946, 1068,  884, 1492, 1402,\n",
       "       1219, 1188, 1249, 1523, 1158, 1706, 1037, 1584, 1645, 1676, 2102,\n",
       "       2010, 1949, 2071, 1979, 2132, 1888, 1553, 1614, 1767, 1918, 1857,\n",
       "       2284, 1826, 2163, 2192, 1798,   31, 2041,    0, 2254])"
      ]
     },
     "execution_count": 36,
     "metadata": {},
     "output_type": "execute_result"
    }
   ],
   "source": [
    "train.elapsed_time.unique()"
   ]
  },
  {
   "cell_type": "code",
   "execution_count": 37,
   "metadata": {},
   "outputs": [],
   "source": [
    "outliers = train[train.outliers == 1].reset_index(drop=True)"
   ]
  },
  {
   "cell_type": "code",
   "execution_count": 38,
   "metadata": {},
   "outputs": [
    {
     "data": {
      "text/plain": [
       "(2207, 16)"
      ]
     },
     "execution_count": 38,
     "metadata": {},
     "output_type": "execute_result"
    }
   ],
   "source": [
    "outliers.shape"
   ]
  },
  {
   "cell_type": "code",
   "execution_count": 39,
   "metadata": {},
   "outputs": [
    {
     "data": {
      "text/html": [
       "<div>\n",
       "<style scoped>\n",
       "    .dataframe tbody tr th:only-of-type {\n",
       "        vertical-align: middle;\n",
       "    }\n",
       "\n",
       "    .dataframe tbody tr th {\n",
       "        vertical-align: top;\n",
       "    }\n",
       "\n",
       "    .dataframe thead th {\n",
       "        text-align: right;\n",
       "    }\n",
       "</style>\n",
       "<table border=\"1\" class=\"dataframe\">\n",
       "  <thead>\n",
       "    <tr style=\"text-align: right;\">\n",
       "      <th></th>\n",
       "      <th>first_active_month</th>\n",
       "      <th>card_id</th>\n",
       "      <th>feature_1</th>\n",
       "      <th>feature_2</th>\n",
       "      <th>feature_3</th>\n",
       "      <th>target</th>\n",
       "      <th>mean_feature_1</th>\n",
       "      <th>mean_feature_2</th>\n",
       "      <th>mean_feature_3</th>\n",
       "      <th>first_active_month_year</th>\n",
       "      <th>first_active_month_weekday</th>\n",
       "      <th>first_active_month_month</th>\n",
       "      <th>first_active_month_dayofweek</th>\n",
       "      <th>first_active_month_weekofyear</th>\n",
       "      <th>elapsed_time</th>\n",
       "      <th>outliers</th>\n",
       "    </tr>\n",
       "  </thead>\n",
       "  <tbody>\n",
       "    <tr>\n",
       "      <th>0</th>\n",
       "      <td>2017-09-01</td>\n",
       "      <td>C_ID_8186f3fcc1</td>\n",
       "      <td>3</td>\n",
       "      <td>1</td>\n",
       "      <td>1</td>\n",
       "      <td>-33.219281</td>\n",
       "      <td>0.010479</td>\n",
       "      <td>0.011385</td>\n",
       "      <td>0.011428</td>\n",
       "      <td>2017</td>\n",
       "      <td>4</td>\n",
       "      <td>9</td>\n",
       "      <td>4</td>\n",
       "      <td>35</td>\n",
       "      <td>153</td>\n",
       "      <td>1</td>\n",
       "    </tr>\n",
       "    <tr>\n",
       "      <th>1</th>\n",
       "      <td>2015-05-01</td>\n",
       "      <td>C_ID_b9379a30ea</td>\n",
       "      <td>3</td>\n",
       "      <td>3</td>\n",
       "      <td>1</td>\n",
       "      <td>-33.219281</td>\n",
       "      <td>0.010479</td>\n",
       "      <td>0.014166</td>\n",
       "      <td>0.011428</td>\n",
       "      <td>2015</td>\n",
       "      <td>4</td>\n",
       "      <td>5</td>\n",
       "      <td>4</td>\n",
       "      <td>18</td>\n",
       "      <td>1007</td>\n",
       "      <td>1</td>\n",
       "    </tr>\n",
       "    <tr>\n",
       "      <th>2</th>\n",
       "      <td>2015-10-01</td>\n",
       "      <td>C_ID_e9120f535c</td>\n",
       "      <td>3</td>\n",
       "      <td>3</td>\n",
       "      <td>1</td>\n",
       "      <td>-33.219281</td>\n",
       "      <td>0.010479</td>\n",
       "      <td>0.014166</td>\n",
       "      <td>0.011428</td>\n",
       "      <td>2015</td>\n",
       "      <td>3</td>\n",
       "      <td>10</td>\n",
       "      <td>3</td>\n",
       "      <td>40</td>\n",
       "      <td>854</td>\n",
       "      <td>1</td>\n",
       "    </tr>\n",
       "    <tr>\n",
       "      <th>3</th>\n",
       "      <td>2017-03-01</td>\n",
       "      <td>C_ID_65715cb80d</td>\n",
       "      <td>4</td>\n",
       "      <td>2</td>\n",
       "      <td>0</td>\n",
       "      <td>-33.219281</td>\n",
       "      <td>0.010712</td>\n",
       "      <td>0.008752</td>\n",
       "      <td>0.010283</td>\n",
       "      <td>2017</td>\n",
       "      <td>2</td>\n",
       "      <td>3</td>\n",
       "      <td>2</td>\n",
       "      <td>9</td>\n",
       "      <td>337</td>\n",
       "      <td>1</td>\n",
       "    </tr>\n",
       "    <tr>\n",
       "      <th>4</th>\n",
       "      <td>2017-01-01</td>\n",
       "      <td>C_ID_ae77d244b6</td>\n",
       "      <td>2</td>\n",
       "      <td>1</td>\n",
       "      <td>0</td>\n",
       "      <td>-33.219281</td>\n",
       "      <td>0.010610</td>\n",
       "      <td>0.011385</td>\n",
       "      <td>0.010283</td>\n",
       "      <td>2017</td>\n",
       "      <td>6</td>\n",
       "      <td>1</td>\n",
       "      <td>6</td>\n",
       "      <td>52</td>\n",
       "      <td>396</td>\n",
       "      <td>1</td>\n",
       "    </tr>\n",
       "  </tbody>\n",
       "</table>\n",
       "</div>"
      ],
      "text/plain": [
       "  first_active_month          card_id  feature_1  feature_2  feature_3  \\\n",
       "0         2017-09-01  C_ID_8186f3fcc1          3          1          1   \n",
       "1         2015-05-01  C_ID_b9379a30ea          3          3          1   \n",
       "2         2015-10-01  C_ID_e9120f535c          3          3          1   \n",
       "3         2017-03-01  C_ID_65715cb80d          4          2          0   \n",
       "4         2017-01-01  C_ID_ae77d244b6          2          1          0   \n",
       "\n",
       "      target  mean_feature_1  mean_feature_2  mean_feature_3  \\\n",
       "0 -33.219281        0.010479        0.011385        0.011428   \n",
       "1 -33.219281        0.010479        0.014166        0.011428   \n",
       "2 -33.219281        0.010479        0.014166        0.011428   \n",
       "3 -33.219281        0.010712        0.008752        0.010283   \n",
       "4 -33.219281        0.010610        0.011385        0.010283   \n",
       "\n",
       "   first_active_month_year  first_active_month_weekday  \\\n",
       "0                     2017                           4   \n",
       "1                     2015                           4   \n",
       "2                     2015                           3   \n",
       "3                     2017                           2   \n",
       "4                     2017                           6   \n",
       "\n",
       "   first_active_month_month  first_active_month_dayofweek  \\\n",
       "0                         9                             4   \n",
       "1                         5                             4   \n",
       "2                        10                             3   \n",
       "3                         3                             2   \n",
       "4                         1                             6   \n",
       "\n",
       "   first_active_month_weekofyear  elapsed_time  outliers  \n",
       "0                             35           153         1  \n",
       "1                             18          1007         1  \n",
       "2                             40           854         1  \n",
       "3                              9           337         1  \n",
       "4                             52           396         1  "
      ]
     },
     "execution_count": 39,
     "metadata": {},
     "output_type": "execute_result"
    }
   ],
   "source": [
    "outliers.head()"
   ]
  },
  {
   "cell_type": "code",
   "execution_count": 40,
   "metadata": {},
   "outputs": [
    {
     "data": {
      "text/plain": [
       "first_active_month                 65\n",
       "card_id                          2207\n",
       "feature_1                           5\n",
       "feature_2                           3\n",
       "feature_3                           2\n",
       "target                              1\n",
       "mean_feature_1                      5\n",
       "mean_feature_2                      3\n",
       "mean_feature_3                      2\n",
       "first_active_month_year             6\n",
       "first_active_month_weekday          7\n",
       "first_active_month_month           12\n",
       "first_active_month_dayofweek        7\n",
       "first_active_month_weekofyear      21\n",
       "elapsed_time                       65\n",
       "outliers                            1\n",
       "dtype: int64"
      ]
     },
     "execution_count": 40,
     "metadata": {},
     "output_type": "execute_result"
    }
   ],
   "source": [
    "outliers.nunique()"
   ]
  },
  {
   "cell_type": "code",
   "execution_count": 41,
   "metadata": {},
   "outputs": [
    {
     "data": {
      "text/plain": [
       "array([2017, 2015, 2016, 2013, 2014, 2012])"
      ]
     },
     "execution_count": 41,
     "metadata": {},
     "output_type": "execute_result"
    }
   ],
   "source": [
    "outliers.first_active_month_year.unique()"
   ]
  },
  {
   "cell_type": "code",
   "execution_count": 42,
   "metadata": {},
   "outputs": [
    {
     "data": {
      "text/plain": [
       "array([ 153, 1007,  854,  337,  396,  946,  245,  671,  427,  793,  731,\n",
       "        580, 1523,  215,  457,  276,  488,  365,  306, 1492,  610,  976,\n",
       "       1037,  549, 1127,  823,  915,  641,  184,  702, 1249,  123,  518,\n",
       "       1311, 1280, 1219, 1341,  884, 1767, 1158, 1188, 1614,  762, 1433,\n",
       "       1798, 1372, 1068, 1402, 1645, 1826, 2132, 1584, 2102, 1461, 1553,\n",
       "       1737, 1096, 2010, 1676, 1949, 2071, 2041, 1979, 1857, 1918])"
      ]
     },
     "execution_count": 42,
     "metadata": {},
     "output_type": "execute_result"
    }
   ],
   "source": [
    "outliers.elapsed_time.unique()"
   ]
  },
  {
   "cell_type": "code",
   "execution_count": 43,
   "metadata": {},
   "outputs": [],
   "source": [
    "historical = pd.read_csv('../data/historical_transactions.csv')"
   ]
  },
  {
   "cell_type": "code",
   "execution_count": 45,
   "metadata": {},
   "outputs": [],
   "source": [
    "outliers_historical = historical[historical.card_id.isin(outliers.card_id)]\n",
    "historical = historical[historical.card_id.isin(train.card_id)]"
   ]
  },
  {
   "cell_type": "code",
   "execution_count": 46,
   "metadata": {},
   "outputs": [
    {
     "data": {
      "text/plain": [
       "(180105, 14)"
      ]
     },
     "execution_count": 46,
     "metadata": {},
     "output_type": "execute_result"
    }
   ],
   "source": [
    "outliers_historical.shape"
   ]
  },
  {
   "cell_type": "code",
   "execution_count": 47,
   "metadata": {},
   "outputs": [
    {
     "data": {
      "text/plain": [
       "(18030009, 14)"
      ]
     },
     "execution_count": 47,
     "metadata": {},
     "output_type": "execute_result"
    }
   ],
   "source": [
    "historical.shape"
   ]
  },
  {
   "cell_type": "code",
   "execution_count": 48,
   "metadata": {},
   "outputs": [
    {
     "data": {
      "text/plain": [
       "authorized_flag              2\n",
       "card_id                   2207\n",
       "city_id                    303\n",
       "category_1                   2\n",
       "installments                15\n",
       "category_3                   4\n",
       "merchant_category_id       270\n",
       "merchant_id              35639\n",
       "month_lag                   14\n",
       "purchase_amount          25918\n",
       "purchase_date           175817\n",
       "category_2                   5\n",
       "state_id                    25\n",
       "subsector_id                41\n",
       "dtype: int64"
      ]
     },
     "execution_count": 48,
     "metadata": {},
     "output_type": "execute_result"
    }
   ],
   "source": [
    "outliers_historical.nunique()"
   ]
  },
  {
   "cell_type": "code",
   "execution_count": 49,
   "metadata": {},
   "outputs": [
    {
     "data": {
      "text/plain": [
       "authorized_flag                2\n",
       "card_id                   201917\n",
       "city_id                      308\n",
       "category_1                     2\n",
       "installments                  15\n",
       "category_3                     4\n",
       "merchant_category_id         324\n",
       "merchant_id               303897\n",
       "month_lag                     14\n",
       "purchase_amount           179316\n",
       "purchase_date           12199110\n",
       "category_2                     5\n",
       "state_id                      25\n",
       "subsector_id                  41\n",
       "dtype: int64"
      ]
     },
     "execution_count": 49,
     "metadata": {},
     "output_type": "execute_result"
    }
   ],
   "source": [
    "historical.nunique()"
   ]
  },
  {
   "cell_type": "code",
   "execution_count": 59,
   "metadata": {},
   "outputs": [],
   "source": [
    "om = set(outliers_historical.merchant_category_id.unique())"
   ]
  },
  {
   "cell_type": "code",
   "execution_count": 60,
   "metadata": {},
   "outputs": [],
   "source": [
    "hm = set(historical.merchant_category_id.unique())"
   ]
  },
  {
   "cell_type": "code",
   "execution_count": 61,
   "metadata": {},
   "outputs": [],
   "source": [
    "dm = hm.difference(om)"
   ]
  },
  {
   "cell_type": "code",
   "execution_count": 82,
   "metadata": {},
   "outputs": [
    {
     "data": {
      "text/plain": [
       "{11,\n",
       " 18,\n",
       " 27,\n",
       " 37,\n",
       " 49,\n",
       " 59,\n",
       " 67,\n",
       " 86,\n",
       " 131,\n",
       " 140,\n",
       " 145,\n",
       " 153,\n",
       " 162,\n",
       " 164,\n",
       " 183,\n",
       " 192,\n",
       " 201,\n",
       " 226,\n",
       " 245,\n",
       " 266,\n",
       " 268,\n",
       " 311,\n",
       " 334,\n",
       " 345,\n",
       " 355,\n",
       " 358,\n",
       " 393,\n",
       " 421,\n",
       " 436,\n",
       " 464,\n",
       " 523,\n",
       " 530,\n",
       " 542,\n",
       " 579,\n",
       " 583,\n",
       " 587,\n",
       " 601,\n",
       " 634,\n",
       " 664,\n",
       " 712,\n",
       " 714,\n",
       " 718,\n",
       " 741,\n",
       " 743,\n",
       " 757,\n",
       " 790,\n",
       " 803,\n",
       " 805,\n",
       " 808,\n",
       " 814,\n",
       " 817,\n",
       " 847,\n",
       " 875,\n",
       " 882}"
      ]
     },
     "execution_count": 82,
     "metadata": {},
     "output_type": "execute_result"
    }
   ],
   "source": [
    "dm"
   ]
  },
  {
   "cell_type": "code",
   "execution_count": 58,
   "metadata": {},
   "outputs": [],
   "source": [
    "oc = set(outliers_historical.city_id.unique())"
   ]
  },
  {
   "cell_type": "code",
   "execution_count": 63,
   "metadata": {},
   "outputs": [],
   "source": [
    "hc = set(historical.city_id.unique())"
   ]
  },
  {
   "cell_type": "code",
   "execution_count": 64,
   "metadata": {},
   "outputs": [],
   "source": [
    "dc = hc.difference(oc)"
   ]
  },
  {
   "cell_type": "code",
   "execution_count": 66,
   "metadata": {},
   "outputs": [
    {
     "data": {
      "text/plain": [
       "{92, 185, 207, 273, 316}"
      ]
     },
     "execution_count": 66,
     "metadata": {},
     "output_type": "execute_result"
    }
   ],
   "source": [
    "dc"
   ]
  },
  {
   "cell_type": "code",
   "execution_count": 69,
   "metadata": {},
   "outputs": [
    {
     "data": {
      "text/html": [
       "<div>\n",
       "<style scoped>\n",
       "    .dataframe tbody tr th:only-of-type {\n",
       "        vertical-align: middle;\n",
       "    }\n",
       "\n",
       "    .dataframe tbody tr th {\n",
       "        vertical-align: top;\n",
       "    }\n",
       "\n",
       "    .dataframe thead th {\n",
       "        text-align: right;\n",
       "    }\n",
       "</style>\n",
       "<table border=\"1\" class=\"dataframe\">\n",
       "  <thead>\n",
       "    <tr style=\"text-align: right;\">\n",
       "      <th></th>\n",
       "      <th>authorized_flag</th>\n",
       "      <th>card_id</th>\n",
       "      <th>city_id</th>\n",
       "      <th>category_1</th>\n",
       "      <th>installments</th>\n",
       "      <th>category_3</th>\n",
       "      <th>merchant_category_id</th>\n",
       "      <th>merchant_id</th>\n",
       "      <th>month_lag</th>\n",
       "      <th>purchase_amount</th>\n",
       "      <th>purchase_date</th>\n",
       "      <th>category_2</th>\n",
       "      <th>state_id</th>\n",
       "      <th>subsector_id</th>\n",
       "    </tr>\n",
       "  </thead>\n",
       "  <tbody>\n",
       "    <tr>\n",
       "      <th>60010</th>\n",
       "      <td>1</td>\n",
       "      <td>C_ID_4dcdeb27e4</td>\n",
       "      <td>19</td>\n",
       "      <td>1</td>\n",
       "      <td>0</td>\n",
       "      <td>0</td>\n",
       "      <td>705</td>\n",
       "      <td>M_ID_912836d5d7</td>\n",
       "      <td>-5</td>\n",
       "      <td>-0.716975</td>\n",
       "      <td>2017-09-10 16:57:20</td>\n",
       "      <td>1.0</td>\n",
       "      <td>9</td>\n",
       "      <td>33</td>\n",
       "    </tr>\n",
       "    <tr>\n",
       "      <th>60011</th>\n",
       "      <td>1</td>\n",
       "      <td>C_ID_4dcdeb27e4</td>\n",
       "      <td>314</td>\n",
       "      <td>1</td>\n",
       "      <td>0</td>\n",
       "      <td>0</td>\n",
       "      <td>683</td>\n",
       "      <td>M_ID_7c5e93af2f</td>\n",
       "      <td>-11</td>\n",
       "      <td>-0.740897</td>\n",
       "      <td>2017-03-23 18:22:42</td>\n",
       "      <td>1.0</td>\n",
       "      <td>9</td>\n",
       "      <td>34</td>\n",
       "    </tr>\n",
       "    <tr>\n",
       "      <th>60012</th>\n",
       "      <td>1</td>\n",
       "      <td>C_ID_4dcdeb27e4</td>\n",
       "      <td>314</td>\n",
       "      <td>1</td>\n",
       "      <td>0</td>\n",
       "      <td>0</td>\n",
       "      <td>705</td>\n",
       "      <td>M_ID_46751e9713</td>\n",
       "      <td>-11</td>\n",
       "      <td>-0.721453</td>\n",
       "      <td>2017-03-13 16:01:39</td>\n",
       "      <td>1.0</td>\n",
       "      <td>9</td>\n",
       "      <td>33</td>\n",
       "    </tr>\n",
       "    <tr>\n",
       "      <th>60013</th>\n",
       "      <td>1</td>\n",
       "      <td>C_ID_4dcdeb27e4</td>\n",
       "      <td>19</td>\n",
       "      <td>1</td>\n",
       "      <td>0</td>\n",
       "      <td>0</td>\n",
       "      <td>560</td>\n",
       "      <td>M_ID_1fca6d4757</td>\n",
       "      <td>-10</td>\n",
       "      <td>-0.727974</td>\n",
       "      <td>2017-04-20 06:43:54</td>\n",
       "      <td>1.0</td>\n",
       "      <td>9</td>\n",
       "      <td>34</td>\n",
       "    </tr>\n",
       "    <tr>\n",
       "      <th>60014</th>\n",
       "      <td>1</td>\n",
       "      <td>C_ID_4dcdeb27e4</td>\n",
       "      <td>19</td>\n",
       "      <td>1</td>\n",
       "      <td>0</td>\n",
       "      <td>0</td>\n",
       "      <td>195</td>\n",
       "      <td>M_ID_5fff6ee392</td>\n",
       "      <td>-3</td>\n",
       "      <td>-0.730905</td>\n",
       "      <td>2017-11-10 16:20:25</td>\n",
       "      <td>1.0</td>\n",
       "      <td>9</td>\n",
       "      <td>34</td>\n",
       "    </tr>\n",
       "    <tr>\n",
       "      <th>60015</th>\n",
       "      <td>1</td>\n",
       "      <td>C_ID_4dcdeb27e4</td>\n",
       "      <td>314</td>\n",
       "      <td>1</td>\n",
       "      <td>0</td>\n",
       "      <td>0</td>\n",
       "      <td>705</td>\n",
       "      <td>M_ID_46751e9713</td>\n",
       "      <td>0</td>\n",
       "      <td>-0.744293</td>\n",
       "      <td>2018-02-21 12:29:06</td>\n",
       "      <td>1.0</td>\n",
       "      <td>9</td>\n",
       "      <td>33</td>\n",
       "    </tr>\n",
       "    <tr>\n",
       "      <th>60016</th>\n",
       "      <td>1</td>\n",
       "      <td>C_ID_4dcdeb27e4</td>\n",
       "      <td>19</td>\n",
       "      <td>1</td>\n",
       "      <td>0</td>\n",
       "      <td>0</td>\n",
       "      <td>734</td>\n",
       "      <td>M_ID_672e09f3bf</td>\n",
       "      <td>-7</td>\n",
       "      <td>-0.604306</td>\n",
       "      <td>2017-07-17 10:18:58</td>\n",
       "      <td>1.0</td>\n",
       "      <td>9</td>\n",
       "      <td>25</td>\n",
       "    </tr>\n",
       "    <tr>\n",
       "      <th>60017</th>\n",
       "      <td>1</td>\n",
       "      <td>C_ID_4dcdeb27e4</td>\n",
       "      <td>314</td>\n",
       "      <td>1</td>\n",
       "      <td>0</td>\n",
       "      <td>0</td>\n",
       "      <td>705</td>\n",
       "      <td>M_ID_46751e9713</td>\n",
       "      <td>-9</td>\n",
       "      <td>-0.744068</td>\n",
       "      <td>2017-05-20 13:02:59</td>\n",
       "      <td>1.0</td>\n",
       "      <td>9</td>\n",
       "      <td>33</td>\n",
       "    </tr>\n",
       "    <tr>\n",
       "      <th>60018</th>\n",
       "      <td>1</td>\n",
       "      <td>C_ID_4dcdeb27e4</td>\n",
       "      <td>314</td>\n",
       "      <td>1</td>\n",
       "      <td>0</td>\n",
       "      <td>0</td>\n",
       "      <td>683</td>\n",
       "      <td>M_ID_7c5e93af2f</td>\n",
       "      <td>-7</td>\n",
       "      <td>-0.739395</td>\n",
       "      <td>2017-07-13 15:07:10</td>\n",
       "      <td>1.0</td>\n",
       "      <td>9</td>\n",
       "      <td>34</td>\n",
       "    </tr>\n",
       "    <tr>\n",
       "      <th>60019</th>\n",
       "      <td>1</td>\n",
       "      <td>C_ID_4dcdeb27e4</td>\n",
       "      <td>314</td>\n",
       "      <td>1</td>\n",
       "      <td>0</td>\n",
       "      <td>0</td>\n",
       "      <td>705</td>\n",
       "      <td>M_ID_46751e9713</td>\n",
       "      <td>-13</td>\n",
       "      <td>-0.714946</td>\n",
       "      <td>2017-01-07 12:55:27</td>\n",
       "      <td>1.0</td>\n",
       "      <td>9</td>\n",
       "      <td>33</td>\n",
       "    </tr>\n",
       "  </tbody>\n",
       "</table>\n",
       "</div>"
      ],
      "text/plain": [
       "       authorized_flag          card_id  city_id  category_1  installments  \\\n",
       "60010                1  C_ID_4dcdeb27e4       19           1             0   \n",
       "60011                1  C_ID_4dcdeb27e4      314           1             0   \n",
       "60012                1  C_ID_4dcdeb27e4      314           1             0   \n",
       "60013                1  C_ID_4dcdeb27e4       19           1             0   \n",
       "60014                1  C_ID_4dcdeb27e4       19           1             0   \n",
       "60015                1  C_ID_4dcdeb27e4      314           1             0   \n",
       "60016                1  C_ID_4dcdeb27e4       19           1             0   \n",
       "60017                1  C_ID_4dcdeb27e4      314           1             0   \n",
       "60018                1  C_ID_4dcdeb27e4      314           1             0   \n",
       "60019                1  C_ID_4dcdeb27e4      314           1             0   \n",
       "\n",
       "       category_3  merchant_category_id      merchant_id  month_lag  \\\n",
       "60010           0                   705  M_ID_912836d5d7         -5   \n",
       "60011           0                   683  M_ID_7c5e93af2f        -11   \n",
       "60012           0                   705  M_ID_46751e9713        -11   \n",
       "60013           0                   560  M_ID_1fca6d4757        -10   \n",
       "60014           0                   195  M_ID_5fff6ee392         -3   \n",
       "60015           0                   705  M_ID_46751e9713          0   \n",
       "60016           0                   734  M_ID_672e09f3bf         -7   \n",
       "60017           0                   705  M_ID_46751e9713         -9   \n",
       "60018           0                   683  M_ID_7c5e93af2f         -7   \n",
       "60019           0                   705  M_ID_46751e9713        -13   \n",
       "\n",
       "       purchase_amount        purchase_date  category_2  state_id  \\\n",
       "60010        -0.716975  2017-09-10 16:57:20         1.0         9   \n",
       "60011        -0.740897  2017-03-23 18:22:42         1.0         9   \n",
       "60012        -0.721453  2017-03-13 16:01:39         1.0         9   \n",
       "60013        -0.727974  2017-04-20 06:43:54         1.0         9   \n",
       "60014        -0.730905  2017-11-10 16:20:25         1.0         9   \n",
       "60015        -0.744293  2018-02-21 12:29:06         1.0         9   \n",
       "60016        -0.604306  2017-07-17 10:18:58         1.0         9   \n",
       "60017        -0.744068  2017-05-20 13:02:59         1.0         9   \n",
       "60018        -0.739395  2017-07-13 15:07:10         1.0         9   \n",
       "60019        -0.714946  2017-01-07 12:55:27         1.0         9   \n",
       "\n",
       "       subsector_id  \n",
       "60010            33  \n",
       "60011            34  \n",
       "60012            33  \n",
       "60013            34  \n",
       "60014            34  \n",
       "60015            33  \n",
       "60016            25  \n",
       "60017            33  \n",
       "60018            34  \n",
       "60019            33  "
      ]
     },
     "execution_count": 69,
     "metadata": {},
     "output_type": "execute_result"
    }
   ],
   "source": [
    "outliers_historical.head(10)"
   ]
  },
  {
   "cell_type": "code",
   "execution_count": 76,
   "metadata": {},
   "outputs": [
    {
     "data": {
      "text/plain": [
       "(64646, 14)"
      ]
     },
     "execution_count": 76,
     "metadata": {},
     "output_type": "execute_result"
    }
   ],
   "source": [
    "outliers_historical[outliers_historical.purchase_amount < -0.71].shape"
   ]
  },
  {
   "cell_type": "code",
   "execution_count": 85,
   "metadata": {},
   "outputs": [
    {
     "data": {
      "text/plain": [
       "authorized_flag             1\n",
       "card_id                  2003\n",
       "city_id                   275\n",
       "category_1                  2\n",
       "installments               15\n",
       "category_3                  4\n",
       "merchant_category_id      219\n",
       "merchant_id              6421\n",
       "month_lag                  14\n",
       "purchase_amount          6421\n",
       "purchase_date           27876\n",
       "category_2                  5\n",
       "state_id                   25\n",
       "subsector_id               40\n",
       "dtype: int64"
      ]
     },
     "execution_count": 85,
     "metadata": {},
     "output_type": "execute_result"
    }
   ],
   "source": [
    "outliers_historical[outliers_historical.authorized_flag == 0].nunique()"
   ]
  },
  {
   "cell_type": "code",
   "execution_count": 87,
   "metadata": {},
   "outputs": [
    {
     "data": {
      "text/plain": [
       "authorized_flag              1\n",
       "card_id                   2207\n",
       "city_id                    303\n",
       "category_1                   2\n",
       "installments                14\n",
       "category_3                   4\n",
       "merchant_category_id       268\n",
       "merchant_id              34491\n",
       "month_lag                   14\n",
       "purchase_amount          24481\n",
       "purchase_date           148366\n",
       "category_2                   5\n",
       "state_id                    25\n",
       "subsector_id                41\n",
       "dtype: int64"
      ]
     },
     "execution_count": 87,
     "metadata": {},
     "output_type": "execute_result"
    }
   ],
   "source": [
    "outliers_historical[outliers_historical.authorized_flag == 1].nunique()"
   ]
  },
  {
   "cell_type": "code",
   "execution_count": 70,
   "metadata": {},
   "outputs": [
    {
     "data": {
      "text/html": [
       "<div>\n",
       "<style scoped>\n",
       "    .dataframe tbody tr th:only-of-type {\n",
       "        vertical-align: middle;\n",
       "    }\n",
       "\n",
       "    .dataframe tbody tr th {\n",
       "        vertical-align: top;\n",
       "    }\n",
       "\n",
       "    .dataframe thead th {\n",
       "        text-align: right;\n",
       "    }\n",
       "</style>\n",
       "<table border=\"1\" class=\"dataframe\">\n",
       "  <thead>\n",
       "    <tr style=\"text-align: right;\">\n",
       "      <th></th>\n",
       "      <th>authorized_flag</th>\n",
       "      <th>card_id</th>\n",
       "      <th>city_id</th>\n",
       "      <th>category_1</th>\n",
       "      <th>installments</th>\n",
       "      <th>category_3</th>\n",
       "      <th>merchant_category_id</th>\n",
       "      <th>merchant_id</th>\n",
       "      <th>month_lag</th>\n",
       "      <th>purchase_amount</th>\n",
       "      <th>purchase_date</th>\n",
       "      <th>category_2</th>\n",
       "      <th>state_id</th>\n",
       "      <th>subsector_id</th>\n",
       "    </tr>\n",
       "  </thead>\n",
       "  <tbody>\n",
       "    <tr>\n",
       "      <th>400</th>\n",
       "      <td>0</td>\n",
       "      <td>C_ID_5037ff576e</td>\n",
       "      <td>322</td>\n",
       "      <td>1</td>\n",
       "      <td>1</td>\n",
       "      <td>1</td>\n",
       "      <td>278</td>\n",
       "      <td>M_ID_b61c7d1be0</td>\n",
       "      <td>-3</td>\n",
       "      <td>-0.595260</td>\n",
       "      <td>2017-09-07 20:57:19</td>\n",
       "      <td>3.0</td>\n",
       "      <td>11</td>\n",
       "      <td>37</td>\n",
       "    </tr>\n",
       "    <tr>\n",
       "      <th>401</th>\n",
       "      <td>1</td>\n",
       "      <td>C_ID_5037ff576e</td>\n",
       "      <td>138</td>\n",
       "      <td>1</td>\n",
       "      <td>1</td>\n",
       "      <td>1</td>\n",
       "      <td>307</td>\n",
       "      <td>M_ID_fe69229f24</td>\n",
       "      <td>-4</td>\n",
       "      <td>1.189469</td>\n",
       "      <td>2017-08-14 15:46:08</td>\n",
       "      <td>1.0</td>\n",
       "      <td>15</td>\n",
       "      <td>19</td>\n",
       "    </tr>\n",
       "    <tr>\n",
       "      <th>402</th>\n",
       "      <td>1</td>\n",
       "      <td>C_ID_5037ff576e</td>\n",
       "      <td>138</td>\n",
       "      <td>1</td>\n",
       "      <td>1</td>\n",
       "      <td>1</td>\n",
       "      <td>705</td>\n",
       "      <td>M_ID_efc106141c</td>\n",
       "      <td>-9</td>\n",
       "      <td>-0.640069</td>\n",
       "      <td>2017-03-05 14:57:51</td>\n",
       "      <td>1.0</td>\n",
       "      <td>15</td>\n",
       "      <td>33</td>\n",
       "    </tr>\n",
       "    <tr>\n",
       "      <th>403</th>\n",
       "      <td>1</td>\n",
       "      <td>C_ID_5037ff576e</td>\n",
       "      <td>226</td>\n",
       "      <td>1</td>\n",
       "      <td>1</td>\n",
       "      <td>1</td>\n",
       "      <td>307</td>\n",
       "      <td>M_ID_708022307c</td>\n",
       "      <td>-4</td>\n",
       "      <td>-0.652256</td>\n",
       "      <td>2017-08-15 10:45:28</td>\n",
       "      <td>1.0</td>\n",
       "      <td>16</td>\n",
       "      <td>19</td>\n",
       "    </tr>\n",
       "    <tr>\n",
       "      <th>404</th>\n",
       "      <td>1</td>\n",
       "      <td>C_ID_5037ff576e</td>\n",
       "      <td>330</td>\n",
       "      <td>1</td>\n",
       "      <td>1</td>\n",
       "      <td>1</td>\n",
       "      <td>705</td>\n",
       "      <td>M_ID_393b4b8cec</td>\n",
       "      <td>-9</td>\n",
       "      <td>-0.674210</td>\n",
       "      <td>2017-03-26 20:00:31</td>\n",
       "      <td>3.0</td>\n",
       "      <td>17</td>\n",
       "      <td>33</td>\n",
       "    </tr>\n",
       "    <tr>\n",
       "      <th>405</th>\n",
       "      <td>1</td>\n",
       "      <td>C_ID_5037ff576e</td>\n",
       "      <td>138</td>\n",
       "      <td>1</td>\n",
       "      <td>1</td>\n",
       "      <td>1</td>\n",
       "      <td>307</td>\n",
       "      <td>M_ID_fe69229f24</td>\n",
       "      <td>-9</td>\n",
       "      <td>-0.671775</td>\n",
       "      <td>2017-03-09 18:32:05</td>\n",
       "      <td>1.0</td>\n",
       "      <td>15</td>\n",
       "      <td>19</td>\n",
       "    </tr>\n",
       "    <tr>\n",
       "      <th>406</th>\n",
       "      <td>1</td>\n",
       "      <td>C_ID_5037ff576e</td>\n",
       "      <td>278</td>\n",
       "      <td>1</td>\n",
       "      <td>1</td>\n",
       "      <td>1</td>\n",
       "      <td>705</td>\n",
       "      <td>M_ID_d70b0fd11b</td>\n",
       "      <td>-6</td>\n",
       "      <td>-0.627477</td>\n",
       "      <td>2017-06-07 19:39:09</td>\n",
       "      <td>5.0</td>\n",
       "      <td>5</td>\n",
       "      <td>33</td>\n",
       "    </tr>\n",
       "    <tr>\n",
       "      <th>407</th>\n",
       "      <td>0</td>\n",
       "      <td>C_ID_5037ff576e</td>\n",
       "      <td>221</td>\n",
       "      <td>1</td>\n",
       "      <td>1</td>\n",
       "      <td>1</td>\n",
       "      <td>307</td>\n",
       "      <td>M_ID_16cf5cd707</td>\n",
       "      <td>-1</td>\n",
       "      <td>-0.658296</td>\n",
       "      <td>2017-11-09 04:33:33</td>\n",
       "      <td>2.0</td>\n",
       "      <td>24</td>\n",
       "      <td>19</td>\n",
       "    </tr>\n",
       "    <tr>\n",
       "      <th>408</th>\n",
       "      <td>1</td>\n",
       "      <td>C_ID_5037ff576e</td>\n",
       "      <td>19</td>\n",
       "      <td>1</td>\n",
       "      <td>1</td>\n",
       "      <td>1</td>\n",
       "      <td>278</td>\n",
       "      <td>M_ID_6a5ddaaba7</td>\n",
       "      <td>-8</td>\n",
       "      <td>-0.696569</td>\n",
       "      <td>2017-04-26 10:20:17</td>\n",
       "      <td>1.0</td>\n",
       "      <td>9</td>\n",
       "      <td>37</td>\n",
       "    </tr>\n",
       "    <tr>\n",
       "      <th>409</th>\n",
       "      <td>1</td>\n",
       "      <td>C_ID_5037ff576e</td>\n",
       "      <td>331</td>\n",
       "      <td>1</td>\n",
       "      <td>1</td>\n",
       "      <td>1</td>\n",
       "      <td>332</td>\n",
       "      <td>M_ID_46ab73a225</td>\n",
       "      <td>-2</td>\n",
       "      <td>-0.521510</td>\n",
       "      <td>2017-10-19 21:54:37</td>\n",
       "      <td>1.0</td>\n",
       "      <td>16</td>\n",
       "      <td>2</td>\n",
       "    </tr>\n",
       "  </tbody>\n",
       "</table>\n",
       "</div>"
      ],
      "text/plain": [
       "     authorized_flag          card_id  city_id  category_1  installments  \\\n",
       "400                0  C_ID_5037ff576e      322           1             1   \n",
       "401                1  C_ID_5037ff576e      138           1             1   \n",
       "402                1  C_ID_5037ff576e      138           1             1   \n",
       "403                1  C_ID_5037ff576e      226           1             1   \n",
       "404                1  C_ID_5037ff576e      330           1             1   \n",
       "405                1  C_ID_5037ff576e      138           1             1   \n",
       "406                1  C_ID_5037ff576e      278           1             1   \n",
       "407                0  C_ID_5037ff576e      221           1             1   \n",
       "408                1  C_ID_5037ff576e       19           1             1   \n",
       "409                1  C_ID_5037ff576e      331           1             1   \n",
       "\n",
       "     category_3  merchant_category_id      merchant_id  month_lag  \\\n",
       "400           1                   278  M_ID_b61c7d1be0         -3   \n",
       "401           1                   307  M_ID_fe69229f24         -4   \n",
       "402           1                   705  M_ID_efc106141c         -9   \n",
       "403           1                   307  M_ID_708022307c         -4   \n",
       "404           1                   705  M_ID_393b4b8cec         -9   \n",
       "405           1                   307  M_ID_fe69229f24         -9   \n",
       "406           1                   705  M_ID_d70b0fd11b         -6   \n",
       "407           1                   307  M_ID_16cf5cd707         -1   \n",
       "408           1                   278  M_ID_6a5ddaaba7         -8   \n",
       "409           1                   332  M_ID_46ab73a225         -2   \n",
       "\n",
       "     purchase_amount        purchase_date  category_2  state_id  subsector_id  \n",
       "400        -0.595260  2017-09-07 20:57:19         3.0        11            37  \n",
       "401         1.189469  2017-08-14 15:46:08         1.0        15            19  \n",
       "402        -0.640069  2017-03-05 14:57:51         1.0        15            33  \n",
       "403        -0.652256  2017-08-15 10:45:28         1.0        16            19  \n",
       "404        -0.674210  2017-03-26 20:00:31         3.0        17            33  \n",
       "405        -0.671775  2017-03-09 18:32:05         1.0        15            19  \n",
       "406        -0.627477  2017-06-07 19:39:09         5.0         5            33  \n",
       "407        -0.658296  2017-11-09 04:33:33         2.0        24            19  \n",
       "408        -0.696569  2017-04-26 10:20:17         1.0         9            37  \n",
       "409        -0.521510  2017-10-19 21:54:37         1.0        16             2  "
      ]
     },
     "execution_count": 70,
     "metadata": {},
     "output_type": "execute_result"
    }
   ],
   "source": [
    "historical.head(10)"
   ]
  },
  {
   "cell_type": "code",
   "execution_count": 86,
   "metadata": {},
   "outputs": [
    {
     "data": {
      "text/plain": [
       "authorized_flag               1\n",
       "card_id                  170958\n",
       "city_id                     308\n",
       "category_1                    2\n",
       "installments                 15\n",
       "category_3                    4\n",
       "merchant_category_id        306\n",
       "merchant_id              150955\n",
       "month_lag                    14\n",
       "purchase_amount           79086\n",
       "purchase_date           1478839\n",
       "category_2                    5\n",
       "state_id                     25\n",
       "subsector_id                 41\n",
       "dtype: int64"
      ]
     },
     "execution_count": 86,
     "metadata": {},
     "output_type": "execute_result"
    }
   ],
   "source": [
    "historical[historical.authorized_flag == 0].nunique()"
   ]
  },
  {
   "cell_type": "code",
   "execution_count": 88,
   "metadata": {},
   "outputs": [
    {
     "data": {
      "text/plain": [
       "authorized_flag                1\n",
       "card_id                   201917\n",
       "city_id                      308\n",
       "category_1                     2\n",
       "installments                  15\n",
       "category_3                     4\n",
       "merchant_category_id         324\n",
       "merchant_id               301783\n",
       "month_lag                     14\n",
       "purchase_amount           168347\n",
       "purchase_date           11420898\n",
       "category_2                     5\n",
       "state_id                      25\n",
       "subsector_id                  41\n",
       "dtype: int64"
      ]
     },
     "execution_count": 88,
     "metadata": {},
     "output_type": "execute_result"
    }
   ],
   "source": [
    "historical[historical.authorized_flag == 1].nunique()"
   ]
  },
  {
   "cell_type": "code",
   "execution_count": 77,
   "metadata": {},
   "outputs": [
    {
     "data": {
      "text/plain": [
       "(6363998, 14)"
      ]
     },
     "execution_count": 77,
     "metadata": {},
     "output_type": "execute_result"
    }
   ],
   "source": [
    "historical[historical.purchase_amount < -0.71].shape"
   ]
  },
  {
   "cell_type": "code",
   "execution_count": 78,
   "metadata": {},
   "outputs": [
    {
     "data": {
      "text/plain": [
       "-0.7469078"
      ]
     },
     "execution_count": 78,
     "metadata": {},
     "output_type": "execute_result"
    }
   ],
   "source": [
    "historical.purchase_amount.min()"
   ]
  },
  {
   "cell_type": "code",
   "execution_count": 80,
   "metadata": {},
   "outputs": [
    {
     "data": {
      "text/plain": [
       "6010604.0"
      ]
     },
     "execution_count": 80,
     "metadata": {},
     "output_type": "execute_result"
    }
   ],
   "source": [
    "historical.purchase_amount.max()"
   ]
  },
  {
   "cell_type": "code",
   "execution_count": 79,
   "metadata": {},
   "outputs": [
    {
     "data": {
      "text/plain": [
       "-0.74689275"
      ]
     },
     "execution_count": 79,
     "metadata": {},
     "output_type": "execute_result"
    }
   ],
   "source": [
    "outliers_historical.purchase_amount.min()"
   ]
  },
  {
   "cell_type": "code",
   "execution_count": 81,
   "metadata": {},
   "outputs": [
    {
     "data": {
      "text/plain": [
       "87140.7"
      ]
     },
     "execution_count": 81,
     "metadata": {},
     "output_type": "execute_result"
    }
   ],
   "source": [
    "outliers_historical.purchase_amount.max()"
   ]
  },
  {
   "cell_type": "code",
   "execution_count": null,
   "metadata": {},
   "outputs": [],
   "source": []
  }
 ],
 "metadata": {
  "kernelspec": {
   "display_name": "Python 3",
   "language": "python",
   "name": "python3"
  },
  "language_info": {
   "codemirror_mode": {
    "name": "ipython",
    "version": 3
   },
   "file_extension": ".py",
   "mimetype": "text/x-python",
   "name": "python",
   "nbconvert_exporter": "python",
   "pygments_lexer": "ipython3",
   "version": "3.6.1"
  },
  "toc": {
   "base_numbering": 1,
   "nav_menu": {},
   "number_sections": true,
   "sideBar": true,
   "skip_h1_title": false,
   "title_cell": "Table of Contents",
   "title_sidebar": "Contents",
   "toc_cell": false,
   "toc_position": {},
   "toc_section_display": true,
   "toc_window_display": false
  }
 },
 "nbformat": 4,
 "nbformat_minor": 2
}
