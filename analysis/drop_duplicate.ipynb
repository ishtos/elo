{
 "cells": [
  {
   "cell_type": "code",
   "execution_count": 2,
   "metadata": {},
   "outputs": [],
   "source": [
    "import os\n",
    "import sys\n",
    "import gc\n",
    "import numpy as np\n",
    "import pandas as pd\n",
    "\n",
    "from tqdm import tqdm\n",
    "from sklearn.preprocessing import LabelEncoder\n",
    "from multiprocessing import cpu_count, Pool"
   ]
  },
  {
   "cell_type": "code",
   "execution_count": 2,
   "metadata": {},
   "outputs": [],
   "source": [
    "train = pd.read_csv('../input/train.csv')"
   ]
  },
  {
   "cell_type": "code",
   "execution_count": 3,
   "metadata": {},
   "outputs": [
    {
     "data": {
      "text/html": [
       "<div>\n",
       "<style scoped>\n",
       "    .dataframe tbody tr th:only-of-type {\n",
       "        vertical-align: middle;\n",
       "    }\n",
       "\n",
       "    .dataframe tbody tr th {\n",
       "        vertical-align: top;\n",
       "    }\n",
       "\n",
       "    .dataframe thead th {\n",
       "        text-align: right;\n",
       "    }\n",
       "</style>\n",
       "<table border=\"1\" class=\"dataframe\">\n",
       "  <thead>\n",
       "    <tr style=\"text-align: right;\">\n",
       "      <th></th>\n",
       "      <th>first_active_month</th>\n",
       "      <th>card_id</th>\n",
       "      <th>feature_1</th>\n",
       "      <th>feature_2</th>\n",
       "      <th>feature_3</th>\n",
       "      <th>target</th>\n",
       "    </tr>\n",
       "  </thead>\n",
       "  <tbody>\n",
       "    <tr>\n",
       "      <th>0</th>\n",
       "      <td>2017-06</td>\n",
       "      <td>C_ID_92a2005557</td>\n",
       "      <td>5</td>\n",
       "      <td>2</td>\n",
       "      <td>1</td>\n",
       "      <td>-0.820283</td>\n",
       "    </tr>\n",
       "    <tr>\n",
       "      <th>1</th>\n",
       "      <td>2017-01</td>\n",
       "      <td>C_ID_3d0044924f</td>\n",
       "      <td>4</td>\n",
       "      <td>1</td>\n",
       "      <td>0</td>\n",
       "      <td>0.392913</td>\n",
       "    </tr>\n",
       "    <tr>\n",
       "      <th>2</th>\n",
       "      <td>2016-08</td>\n",
       "      <td>C_ID_d639edf6cd</td>\n",
       "      <td>2</td>\n",
       "      <td>2</td>\n",
       "      <td>0</td>\n",
       "      <td>0.688056</td>\n",
       "    </tr>\n",
       "    <tr>\n",
       "      <th>3</th>\n",
       "      <td>2017-09</td>\n",
       "      <td>C_ID_186d6a6901</td>\n",
       "      <td>4</td>\n",
       "      <td>3</td>\n",
       "      <td>0</td>\n",
       "      <td>0.142495</td>\n",
       "    </tr>\n",
       "    <tr>\n",
       "      <th>4</th>\n",
       "      <td>2017-11</td>\n",
       "      <td>C_ID_cdbd2c0db2</td>\n",
       "      <td>1</td>\n",
       "      <td>3</td>\n",
       "      <td>0</td>\n",
       "      <td>-0.159749</td>\n",
       "    </tr>\n",
       "  </tbody>\n",
       "</table>\n",
       "</div>"
      ],
      "text/plain": [
       "  first_active_month          card_id  feature_1  feature_2  feature_3  \\\n",
       "0            2017-06  C_ID_92a2005557          5          2          1   \n",
       "1            2017-01  C_ID_3d0044924f          4          1          0   \n",
       "2            2016-08  C_ID_d639edf6cd          2          2          0   \n",
       "3            2017-09  C_ID_186d6a6901          4          3          0   \n",
       "4            2017-11  C_ID_cdbd2c0db2          1          3          0   \n",
       "\n",
       "     target  \n",
       "0 -0.820283  \n",
       "1  0.392913  \n",
       "2  0.688056  \n",
       "3  0.142495  \n",
       "4 -0.159749  "
      ]
     },
     "execution_count": 3,
     "metadata": {},
     "output_type": "execute_result"
    }
   ],
   "source": [
    "train.head()"
   ]
  },
  {
   "cell_type": "code",
   "execution_count": 4,
   "metadata": {},
   "outputs": [],
   "source": [
    "train['feature_4'] = train['feature_3']"
   ]
  },
  {
   "cell_type": "code",
   "execution_count": 5,
   "metadata": {},
   "outputs": [
    {
     "data": {
      "text/html": [
       "<div>\n",
       "<style scoped>\n",
       "    .dataframe tbody tr th:only-of-type {\n",
       "        vertical-align: middle;\n",
       "    }\n",
       "\n",
       "    .dataframe tbody tr th {\n",
       "        vertical-align: top;\n",
       "    }\n",
       "\n",
       "    .dataframe thead th {\n",
       "        text-align: right;\n",
       "    }\n",
       "</style>\n",
       "<table border=\"1\" class=\"dataframe\">\n",
       "  <thead>\n",
       "    <tr style=\"text-align: right;\">\n",
       "      <th></th>\n",
       "      <th>first_active_month</th>\n",
       "      <th>card_id</th>\n",
       "      <th>feature_1</th>\n",
       "      <th>feature_2</th>\n",
       "      <th>feature_3</th>\n",
       "      <th>target</th>\n",
       "      <th>feature_4</th>\n",
       "    </tr>\n",
       "  </thead>\n",
       "  <tbody>\n",
       "    <tr>\n",
       "      <th>0</th>\n",
       "      <td>2017-06</td>\n",
       "      <td>C_ID_92a2005557</td>\n",
       "      <td>5</td>\n",
       "      <td>2</td>\n",
       "      <td>1</td>\n",
       "      <td>-0.820283</td>\n",
       "      <td>1</td>\n",
       "    </tr>\n",
       "    <tr>\n",
       "      <th>1</th>\n",
       "      <td>2017-01</td>\n",
       "      <td>C_ID_3d0044924f</td>\n",
       "      <td>4</td>\n",
       "      <td>1</td>\n",
       "      <td>0</td>\n",
       "      <td>0.392913</td>\n",
       "      <td>0</td>\n",
       "    </tr>\n",
       "    <tr>\n",
       "      <th>2</th>\n",
       "      <td>2016-08</td>\n",
       "      <td>C_ID_d639edf6cd</td>\n",
       "      <td>2</td>\n",
       "      <td>2</td>\n",
       "      <td>0</td>\n",
       "      <td>0.688056</td>\n",
       "      <td>0</td>\n",
       "    </tr>\n",
       "    <tr>\n",
       "      <th>3</th>\n",
       "      <td>2017-09</td>\n",
       "      <td>C_ID_186d6a6901</td>\n",
       "      <td>4</td>\n",
       "      <td>3</td>\n",
       "      <td>0</td>\n",
       "      <td>0.142495</td>\n",
       "      <td>0</td>\n",
       "    </tr>\n",
       "    <tr>\n",
       "      <th>4</th>\n",
       "      <td>2017-11</td>\n",
       "      <td>C_ID_cdbd2c0db2</td>\n",
       "      <td>1</td>\n",
       "      <td>3</td>\n",
       "      <td>0</td>\n",
       "      <td>-0.159749</td>\n",
       "      <td>0</td>\n",
       "    </tr>\n",
       "  </tbody>\n",
       "</table>\n",
       "</div>"
      ],
      "text/plain": [
       "  first_active_month          card_id  feature_1  feature_2  feature_3  \\\n",
       "0            2017-06  C_ID_92a2005557          5          2          1   \n",
       "1            2017-01  C_ID_3d0044924f          4          1          0   \n",
       "2            2016-08  C_ID_d639edf6cd          2          2          0   \n",
       "3            2017-09  C_ID_186d6a6901          4          3          0   \n",
       "4            2017-11  C_ID_cdbd2c0db2          1          3          0   \n",
       "\n",
       "     target  feature_4  \n",
       "0 -0.820283          1  \n",
       "1  0.392913          0  \n",
       "2  0.688056          0  \n",
       "3  0.142495          0  \n",
       "4 -0.159749          0  "
      ]
     },
     "execution_count": 5,
     "metadata": {},
     "output_type": "execute_result"
    }
   ],
   "source": [
    "train.head()"
   ]
  },
  {
   "cell_type": "code",
   "execution_count": 32,
   "metadata": {},
   "outputs": [
    {
     "name": "stderr",
     "output_type": "stream",
     "text": [
      "100%|██████████| 7/7 [00:00<00:00, 20.09it/s]\n"
     ]
    }
   ],
   "source": [
    "drop = []\n",
    "columns = train.columns\n",
    "for i in tqdm(range(0, len(columns))):\n",
    "    for j in range(i+1, len(columns)):\n",
    "        if sum(train[columns[i]] != train[columns[j]]) == 0:\n",
    "            drop.append(columns[j])"
   ]
  },
  {
   "cell_type": "code",
   "execution_count": 33,
   "metadata": {},
   "outputs": [
    {
     "data": {
      "text/plain": [
       "['feature_4']"
      ]
     },
     "execution_count": 33,
     "metadata": {},
     "output_type": "execute_result"
    }
   ],
   "source": [
    "drop"
   ]
  },
  {
   "cell_type": "code",
   "execution_count": 3,
   "metadata": {},
   "outputs": [],
   "source": [
    "NTHREAD = cpu_count()\n",
    "\n",
    "PATH = os.path.join('..', 'feature')\n",
    "\n",
    "KEY = 'card_id'"
   ]
  },
  {
   "cell_type": "code",
   "execution_count": 4,
   "metadata": {
    "scrolled": true
   },
   "outputs": [
    {
     "name": "stdout",
     "output_type": "stream",
     "text": [
      "Merge: f103.pkl Done!!\n",
      "Merge: f105.pkl Done!!\n",
      "Merge: f109.pkl Done!!\n",
      "Merge: f107_N.pkl Done!!\n",
      "Merge: f107_Y.pkl Done!!\n",
      "Merge: f108_N.pkl Done!!\n",
      "Merge: f108_Y.pkl Done!!\n",
      "Merge: f203.pkl Done!!\n",
      "Merge: f205.pkl Done!!\n",
      "Merge: f209.pkl Done!!\n",
      "Merge: f207_N.pkl Done!!\n",
      "Merge: f207_Y.pkl Done!!\n",
      "Merge: f208_N.pkl Done!!\n",
      "Merge: f208_Y.pkl Done!!\n",
      "Merge: f302.pkl Done!!\n",
      "Merge: f303.pkl Done!!\n",
      "Merge: f304.pkl Done!!\n",
      "Merge: f305.pkl Done!!\n",
      "Merge: f306.pkl Done!!\n",
      "Merge: f403.pkl Done!!\n",
      "Merge: f404.pkl Done!!\n",
      "Merge: f409.pkl Done!!\n",
      "Merge: f410.pkl Done!!\n",
      "Merge: f411.pkl Done!!\n",
      "Merge: f406_N.pkl Done!!\n",
      "Merge: f406_Y.pkl Done!!\n",
      "Merge: f408_N.pkl Done!!\n",
      "Merge: f408_Y.pkl Done!!\n"
     ]
    }
   ],
   "source": [
    "files = os.listdir(PATH)\n",
    "\n",
    "test = pd.read_csv(os.path.join('..', 'data', 'test.csv'))\n",
    "\n",
    "features =  ['f103.pkl', 'f105.pkl', 'f109.pkl']\n",
    "features += ['f107_N.pkl', 'f107_Y.pkl', 'f108_N.pkl', 'f108_Y.pkl']\n",
    "features += ['f203.pkl', 'f205.pkl', 'f209.pkl']\n",
    "features += ['f207_N.pkl', 'f207_Y.pkl', 'f208_N.pkl', 'f208_Y.pkl']\n",
    "features += ['f302.pkl', 'f303.pkl', 'f304.pkl', 'f305.pkl', 'f306.pkl']\n",
    "features += ['f403.pkl', 'f404.pkl', 'f409.pkl', 'f410.pkl', 'f411.pkl']\n",
    "features += ['f406_N.pkl', 'f406_Y.pkl', 'f408_N.pkl', 'f408_Y.pkl']\n",
    "\n",
    "for f in features:\n",
    "    print(f'Merge: {f}', end=' ')\n",
    "    test = pd.merge(test, pd.read_pickle(os.path.join('..', 'feature', f)), on=KEY, how='left')\n",
    "    print('Done!!')"
   ]
  },
  {
   "cell_type": "code",
   "execution_count": 5,
   "metadata": {
    "scrolled": true
   },
   "outputs": [
    {
     "data": {
      "text/plain": [
       "first_active_month                                   object\n",
       "card_id                                              object\n",
       "feature_1                                             int64\n",
       "feature_2                                             int64\n",
       "feature_3                                             int64\n",
       "mean_feature_1                                      float64\n",
       "mean_feature_2                                      float64\n",
       "mean_feature_3                                      float64\n",
       "first_active_month_year                               int64\n",
       "first_active_month_weekday                            int64\n",
       "first_active_month_month                              int64\n",
       "first_active_month_dayofweek                          int64\n",
       "first_active_month_weekofyear                         int64\n",
       "elapsed_time                                          int64\n",
       "hist_month_lag_mean_x                               float16\n",
       "hist_month_lag_std_x                                float16\n",
       "hist_month_lag_var                                  float16\n",
       "hist_month_lag_skew                                 float16\n",
       "hist_purchase_amount_min_mean                       float16\n",
       "hist_purchase_amount_min_std                        float16\n",
       "hist_purchase_amount_min_var                        float32\n",
       "hist_purchase_amount_min_skew                       float16\n",
       "hist_purchase_amount_max_mean                       float32\n",
       "hist_purchase_amount_max_std                        float32\n",
       "hist_purchase_amount_max_var                        float32\n",
       "hist_purchase_amount_max_skew                       float16\n",
       "hist_purchase_amount_mean_mean                      float32\n",
       "hist_purchase_amount_mean_std                       float32\n",
       "hist_purchase_amount_mean_var                       float32\n",
       "hist_purchase_amount_mean_skew                      float16\n",
       "                                                  ...      \n",
       "Y_union_auth_purchase_amount_max                    float16\n",
       "Y_union_auth_purchase_amount_min                    float16\n",
       "Y_union_auth_purchase_amount_std                    float16\n",
       "Y_union_auth_installments_sum                         int16\n",
       "Y_union_auth_installments_mean                      float16\n",
       "Y_union_auth_installments_max                         int16\n",
       "Y_union_auth_installments_min                          int8\n",
       "Y_union_auth_installments_std                       float16\n",
       "Y_union_auth_purchase_month_mean                    float16\n",
       "Y_union_auth_purchase_month_max                        int8\n",
       "Y_union_auth_purchase_month_min                        int8\n",
       "Y_union_auth_purchase_month_std                     float16\n",
       "Y_union_auth_purchase_date_ptp                        int16\n",
       "Y_union_auth_purchase_date_max               datetime64[ns]\n",
       "Y_union_auth_purchase_date_min               datetime64[ns]\n",
       "Y_union_auth_month_lag_mean                         float16\n",
       "Y_union_auth_month_lag_max                             int8\n",
       "Y_union_auth_month_lag_min                             int8\n",
       "Y_union_auth_month_lag_std                          float16\n",
       "Y_union_auth_merchant_category_id_nunique              int8\n",
       "Y_union_auth_state_id_nunique                          int8\n",
       "Y_union_auth_subsector_id_nunique                      int8\n",
       "Y_union_auth_city_id_nunique                           int8\n",
       "Y_union_auth_month_diff_mean                        float16\n",
       "Y_union_auth_month_diff_max                            int8\n",
       "Y_union_auth_month_diff_min                            int8\n",
       "Y_union_auth_month_diff_std                         float16\n",
       "Y_union_auth_purchase_date_diff                       int16\n",
       "Y_union_auth_purchase_date_average                  float16\n",
       "Y_union_auth_purchase_date_uptonow                    int16\n",
       "Length: 986, dtype: object"
      ]
     },
     "execution_count": 5,
     "metadata": {},
     "output_type": "execute_result"
    }
   ],
   "source": [
    "test.dtypesypes"
   ]
  },
  {
   "cell_type": "code",
   "execution_count": 8,
   "metadata": {},
   "outputs": [
    {
     "data": {
      "text/plain": [
       "'object'"
      ]
     },
     "execution_count": 8,
     "metadata": {},
     "output_type": "execute_result"
    }
   ],
   "source": [
    "str(test['first_active_month'].dtype)"
   ]
  },
  {
   "cell_type": "code",
   "execution_count": 13,
   "metadata": {},
   "outputs": [
    {
     "data": {
      "text/plain": [
       "'int64'"
      ]
     },
     "execution_count": 13,
     "metadata": {},
     "output_type": "execute_result"
    }
   ],
   "source": [
    "str(test['feature_1'].dtype)"
   ]
  },
  {
   "cell_type": "code",
   "execution_count": 17,
   "metadata": {},
   "outputs": [],
   "source": [
    "for f in ['hist_purchase_date_max', 'hist_purchase_date_min', \n",
    "          'N_hist_auth_purchase_date_max', 'N_hist_auth_purchase_date_min', \n",
    "          'Y_hist_auth_purchase_date_max', 'Y_hist_auth_purchase_date_min', \n",
    "          'new_purchase_date_max', 'new_purchase_date_min', \n",
    "          'N_new_auth_purchase_date_max', 'N_new_auth_purchase_date_min',\n",
    "          'Y_new_auth_purchase_date_max', 'Y_new_auth_purchase_date_min', \n",
    "          'union_purchase_date_max', 'union_purchase_date_min', \n",
    "          'N_union_auth_purchase_date_max', 'N_union_auth_purchase_date_min',\n",
    "          'Y_union_auth_purchase_date_max', 'Y_union_auth_purchase_date_min']:\n",
    "    test[f] = test[f].astype(np.int64) * 1e-9"
   ]
  },
  {
   "cell_type": "code",
   "execution_count": 15,
   "metadata": {},
   "outputs": [],
   "source": [
    "test = test.drop(['N_authorized_flag_x', 'Y_authorized_flag_x',\n",
    "                  'N_authorized_flag_y', 'Y_authorized_flag_y',\n",
    "                  'union_transactions_count_x', 'union_transactions_count_y'], axis=1)"
   ]
  },
  {
   "cell_type": "code",
   "execution_count": null,
   "metadata": {},
   "outputs": [
    {
     "name": "stderr",
     "output_type": "stream",
     "text": [
      "\n",
      "\n",
      "  0%|          | 0/970 [00:00<?, ?it/s]\u001b[A\u001b[A\n",
      "\n",
      "  0%|          | 3/970 [00:08<43:17,  2.69s/it]\u001b[A\u001b[A\n",
      "\n",
      "  0%|          | 4/970 [00:16<1:09:30,  4.32s/it]\u001b[A\u001b[A\n",
      "\n",
      "  1%|          | 5/970 [00:24<1:28:44,  5.52s/it]\u001b[A\u001b[A\n",
      "\n",
      "  1%|          | 6/970 [00:32<1:41:12,  6.30s/it]\u001b[A\u001b[A\n",
      "\n",
      "  1%|          | 7/970 [00:40<1:50:07,  6.86s/it]\u001b[A\u001b[A\n",
      "\n",
      "  1%|          | 8/970 [00:48<1:51:44,  6.97s/it]\u001b[A\u001b[A\n",
      "\n",
      "  1%|          | 9/970 [00:54<1:48:32,  6.78s/it]\u001b[A\u001b[A"
     ]
    },
    {
     "name": "stdout",
     "output_type": "stream",
     "text": [
      "first_active_month_dayofweek\n"
     ]
    },
    {
     "name": "stderr",
     "output_type": "stream",
     "text": [
      "\n",
      "\n",
      "  1%|          | 10/970 [00:58<1:38:06,  6.13s/it]\u001b[A\u001b[A\n",
      "\n",
      "  1%|          | 11/970 [01:03<1:32:27,  5.78s/it]\u001b[A\u001b[A\n",
      "\n",
      "  1%|          | 12/970 [01:10<1:36:14,  6.03s/it]\u001b[A\u001b[A\n",
      "\n",
      "  1%|▏         | 13/970 [01:19<1:48:09,  6.78s/it]\u001b[A\u001b[A\n",
      "\n",
      "  1%|▏         | 14/970 [01:27<1:55:16,  7.23s/it]\u001b[A\u001b[A\n",
      "\n",
      "  2%|▏         | 15/970 [01:36<2:02:23,  7.69s/it]\u001b[A\u001b[A\n",
      "\n",
      "  2%|▏         | 16/970 [01:43<2:01:27,  7.64s/it]\u001b[A\u001b[A\n",
      "\n",
      "  2%|▏         | 17/970 [01:51<2:00:58,  7.62s/it]\u001b[A\u001b[A\n",
      "\n",
      "  2%|▏         | 18/970 [01:58<2:01:36,  7.66s/it]\u001b[A\u001b[A\n",
      "\n",
      "  2%|▏         | 19/970 [02:07<2:04:32,  7.86s/it]\u001b[A\u001b[A\n",
      "\n",
      "  2%|▏         | 20/970 [02:16<2:10:13,  8.23s/it]\u001b[A\u001b[A\n",
      "\n",
      "  2%|▏         | 21/970 [02:24<2:10:24,  8.24s/it]\u001b[A\u001b[A\n",
      "\n",
      "  2%|▏         | 22/970 [02:33<2:13:28,  8.45s/it]\u001b[A\u001b[A\n",
      "\n",
      "  2%|▏         | 23/970 [02:42<2:13:23,  8.45s/it]\u001b[A\u001b[A\n",
      "\n",
      "  2%|▏         | 24/970 [02:50<2:11:45,  8.36s/it]\u001b[A\u001b[A\n",
      "\n",
      "  3%|▎         | 25/970 [02:58<2:11:31,  8.35s/it]\u001b[A\u001b[A\n",
      "\n",
      "  3%|▎         | 26/970 [03:07<2:13:54,  8.51s/it]\u001b[A\u001b[A\n",
      "\n",
      "  3%|▎         | 27/970 [03:15<2:12:29,  8.43s/it]\u001b[A\u001b[A\n",
      "\n",
      "  3%|▎         | 28/970 [03:23<2:10:04,  8.28s/it]\u001b[A\u001b[A\n",
      "\n",
      "  3%|▎         | 29/970 [03:31<2:06:49,  8.09s/it]\u001b[A\u001b[A\n",
      "\n",
      "  3%|▎         | 30/970 [03:39<2:05:19,  8.00s/it]\u001b[A\u001b[A\n",
      "\n",
      "  3%|▎         | 31/970 [03:46<2:01:06,  7.74s/it]\u001b[A\u001b[A\n",
      "\n",
      "  3%|▎         | 32/970 [03:54<2:01:49,  7.79s/it]\u001b[A\u001b[A\n",
      "\n",
      "  3%|▎         | 33/970 [04:02<2:04:14,  7.96s/it]\u001b[A\u001b[A\n",
      "\n",
      "  4%|▎         | 34/970 [04:12<2:11:57,  8.46s/it]\u001b[A\u001b[A\n",
      "\n",
      "  4%|▎         | 35/970 [04:21<2:17:40,  8.84s/it]\u001b[A\u001b[A\n",
      "\n",
      "  4%|▎         | 36/970 [04:31<2:21:39,  9.10s/it]\u001b[A\u001b[A\n",
      "\n",
      "  4%|▍         | 37/970 [04:44<2:38:46, 10.21s/it]\u001b[A\u001b[A\n",
      "\n",
      "  4%|▍         | 38/970 [04:58<2:55:10, 11.28s/it]\u001b[A\u001b[A\n",
      "\n",
      "  4%|▍         | 39/970 [05:11<3:03:43, 11.84s/it]\u001b[A\u001b[A\n",
      "\n",
      "  4%|▍         | 40/970 [05:25<3:13:10, 12.46s/it]\u001b[A\u001b[A\n",
      "\n",
      "  4%|▍         | 41/970 [05:38<3:15:42, 12.64s/it]\u001b[A\u001b[A\n",
      "\n",
      "  4%|▍         | 42/970 [05:51<3:19:10, 12.88s/it]\u001b[A\u001b[A\n",
      "\n",
      "  4%|▍         | 43/970 [06:05<3:23:03, 13.14s/it]\u001b[A\u001b[A\n",
      "\n",
      "  5%|▍         | 44/970 [06:17<3:18:59, 12.89s/it]\u001b[A\u001b[A\n",
      "\n",
      "  5%|▍         | 45/970 [06:29<3:11:47, 12.44s/it]\u001b[A\u001b[A\n",
      "\n",
      "  5%|▍         | 46/970 [06:40<3:04:52, 12.00s/it]\u001b[A\u001b[A"
     ]
    },
    {
     "name": "stdout",
     "output_type": "stream",
     "text": [
      "hist_installments_count_mean\n"
     ]
    },
    {
     "name": "stderr",
     "output_type": "stream",
     "text": [
      "\n",
      "\n",
      "  5%|▍         | 47/970 [06:50<2:57:32, 11.54s/it]\u001b[A\u001b[A"
     ]
    },
    {
     "name": "stdout",
     "output_type": "stream",
     "text": [
      "hist_installments_count_std\n"
     ]
    },
    {
     "name": "stderr",
     "output_type": "stream",
     "text": [
      "\n",
      "\n",
      "  5%|▍         | 48/970 [06:59<2:47:56, 10.93s/it]\u001b[A\u001b[A"
     ]
    },
    {
     "name": "stdout",
     "output_type": "stream",
     "text": [
      "hist_installments_count_var\n"
     ]
    },
    {
     "name": "stderr",
     "output_type": "stream",
     "text": [
      "\n",
      "\n",
      "  5%|▌         | 49/970 [07:08<2:38:24, 10.32s/it]\u001b[A\u001b[A"
     ]
    }
   ],
   "source": [
    "drop = []\n",
    "columns = test.columns\n",
    "for i in tqdm(range(0, len(columns))):\n",
    "    if str(test[columns[i]].dtype) == 'object':\n",
    "        continue\n",
    "    for j in range(i+1, len(columns)):\n",
    "        if str(test[columns[j]].dtype) == 'object':\n",
    "            continue\n",
    "        if sum(test[columns[i]] != test[columns[j]]) == 0:\n",
    "            drop.append(columns[j])\n",
    "            print(columns[j])\n",
    "    del test[columns[i]]"
   ]
  },
  {
   "cell_type": "code",
   "execution_count": null,
   "metadata": {},
   "outputs": [],
   "source": [
    "drop"
   ]
  },
  {
   "cell_type": "code",
   "execution_count": null,
   "metadata": {},
   "outputs": [],
   "source": []
  }
 ],
 "metadata": {
  "kernelspec": {
   "display_name": "Python 3",
   "language": "python",
   "name": "python3"
  },
  "language_info": {
   "codemirror_mode": {
    "name": "ipython",
    "version": 3
   },
   "file_extension": ".py",
   "mimetype": "text/x-python",
   "name": "python",
   "nbconvert_exporter": "python",
   "pygments_lexer": "ipython3",
   "version": "3.6.5"
  },
  "toc": {
   "base_numbering": 1,
   "nav_menu": {},
   "number_sections": true,
   "sideBar": true,
   "skip_h1_title": false,
   "title_cell": "Table of Contents",
   "title_sidebar": "Contents",
   "toc_cell": false,
   "toc_position": {},
   "toc_section_display": true,
   "toc_window_display": false
  },
  "varInspector": {
   "cols": {
    "lenName": 16,
    "lenType": 16,
    "lenVar": 40
   },
   "kernels_config": {
    "python": {
     "delete_cmd_postfix": "",
     "delete_cmd_prefix": "del ",
     "library": "var_list.py",
     "varRefreshCmd": "print(var_dic_list())"
    },
    "r": {
     "delete_cmd_postfix": ") ",
     "delete_cmd_prefix": "rm(",
     "library": "var_list.r",
     "varRefreshCmd": "cat(var_dic_list()) "
    }
   },
   "types_to_exclude": [
    "module",
    "function",
    "builtin_function_or_method",
    "instance",
    "_Feature"
   ],
   "window_display": false
  }
 },
 "nbformat": 4,
 "nbformat_minor": 2
}
